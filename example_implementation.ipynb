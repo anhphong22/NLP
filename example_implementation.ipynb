{
  "nbformat": 4,
  "nbformat_minor": 0,
  "metadata": {
    "colab": {
      "name": "example_implementation.ipynb",
      "provenance": [],
      "collapsed_sections": [],
      "authorship_tag": "ABX9TyOBj1R0XiZGfY5B09V6nUms",
      "include_colab_link": true
    },
    "kernelspec": {
      "name": "python3",
      "display_name": "Python 3"
    },
    "language_info": {
      "name": "python"
    }
  },
  "cells": [
    {
      "cell_type": "markdown",
      "metadata": {
        "id": "view-in-github",
        "colab_type": "text"
      },
      "source": [
        "<a href=\"https://colab.research.google.com/github/anhphong22/NLP/blob/master/example_implementation.ipynb\" target=\"_parent\"><img src=\"https://colab.research.google.com/assets/colab-badge.svg\" alt=\"Open In Colab\"/></a>"
      ]
    },
    {
      "cell_type": "markdown",
      "metadata": {
        "id": "anaPGu7svRw8"
      },
      "source": [
        "##Generating a ***collapsed*** one-hot or binary representation using sklearn"
      ]
    },
    {
      "cell_type": "code",
      "metadata": {
        "id": "-go2K-cnnjoe"
      },
      "source": [
        "from sklearn.feature_extraction.text import CountVectorizer\n",
        "import seaborn as sns\n",
        "import matplotlib.pyplot as plt"
      ],
      "execution_count": 19,
      "outputs": []
    },
    {
      "cell_type": "code",
      "metadata": {
        "colab": {
          "base_uri": "https://localhost:8080/",
          "height": 265
        },
        "id": "LyeSOfijoDSg",
        "outputId": "868b62a3-af29-4700-ae69-6c43257e4a2d"
      },
      "source": [
        "corpus = ['Time flies flies like an arrow.', \n",
        "          'Fruit flies like a banana']\n",
        "\n",
        "# one-hot encoder\n",
        "one_hot_vectorizer = CountVectorizer(binary = True)\n",
        "one_hot_encoder = one_hot_vectorizer.fit_transform(corpus).toarray()\n",
        "vocab = one_hot_vectorizer.get_feature_names()\n",
        "sns.heatmap(one_hot_encoder, annot = True, cbar= False, xticklabels= vocab, yticklabels= ['Sentence 1','Sentence 2'])\n",
        "plt.show()"
      ],
      "execution_count": 20,
      "outputs": [
        {
          "output_type": "display_data",
          "data": {
            "image/png": "[encoded data removed]",
            "text/plain": [
              "<Figure size 432x288 with 1 Axes>"
            ]
          },
          "metadata": {
            "needs_background": "light"
          }
        }
      ]
    },
    {
      "cell_type": "markdown",
      "metadata": {
        "id": "oye2etOfvQ9U"
      },
      "source": [
        "## **TF-IDF** representation"
      ]
    },
    {
      "cell_type": "code",
      "metadata": {
        "id": "qtceNnulvowe"
      },
      "source": [
        "from sklearn.feature_extraction.text import TfidfVectorizer\n",
        "import seaborn as sns\n",
        "import matplotlib.pyplot as plt"
      ],
      "execution_count": 21,
      "outputs": []
    },
    {
      "cell_type": "code",
      "metadata": {
        "colab": {
          "base_uri": "https://localhost:8080/",
          "height": 265
        },
        "id": "q1Hjh3dPvxPH",
        "outputId": "19407515-1103-493f-9db7-341d71c3f2a3"
      },
      "source": [
        "tfidf_vectorizer = TfidfVectorizer()\n",
        "tfidf = tfidf_vectorizer.fit_transform(corpus).toarray()\n",
        "vocab = tfidf_vectorizer.get_feature_names()\n",
        "sns.heatmap(tfidf, annot= True, cbar = False, xticklabels= vocab, yticklabels= ['Sentence 1', 'Sentence 2'])\n",
        "plt.show()"
      ],
      "execution_count": 18,
      "outputs": [
        {
          "output_type": "display_data",
          "data": {
            "image/png": "[encoded data removed]",
            "text/plain": [
              "<Figure size 432x288 with 1 Axes>"
            ]
          },
          "metadata": {
            "needs_background": "light"
          }
        }
      ]
    },
    {
      "cell_type": "code",
      "metadata": {
        "id": "EQAOBqs0wj-W"
      },
      "source": [
        ""
      ],
      "execution_count": null,
      "outputs": []
    }
  ]
}