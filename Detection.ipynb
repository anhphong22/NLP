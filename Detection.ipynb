{
  "nbformat": 4,
  "nbformat_minor": 0,
  "metadata": {
    "colab": {
      "name": "Detection.ipynb",
      "provenance": [],
      "collapsed_sections": [],
      "machine_shape": "hm",
      "authorship_tag": "ABX9TyOtnFRtOTywdN2yFdADALXu",
      "include_colab_link": true
    },
    "kernelspec": {
      "name": "python3",
      "display_name": "Python 3"
    },
    "language_info": {
      "name": "python"
    },
    "accelerator": "GPU",
    "widgets": {
      "application/vnd.jupyter.widget-state+json": {
        "4db02e8915e14d4183c92cc4365b9070": {
          "model_module": "@jupyter-widgets/controls",
          "model_name": "HBoxModel",
          "model_module_version": "1.5.0",
          "state": {
            "_view_name": "HBoxView",
            "_dom_classes": [],
            "_model_name": "HBoxModel",
            "_view_module": "@jupyter-widgets/controls",
            "_model_module_version": "1.5.0",
            "_view_count": null,
            "_view_module_version": "1.5.0",
            "box_style": "",
            "layout": "IPY_MODEL_1165a684023a4451a62bda3f78cd5030",
            "_model_module": "@jupyter-widgets/controls",
            "children": [
              "IPY_MODEL_faf1f400d65b4aa3b099f719b78ea5bb",
              "IPY_MODEL_ec94e3c298ae465188ac9d695f8edaa6",
              "IPY_MODEL_f9b77881b4154fde886cd01ac752d13b"
            ]
          }
        },
        "1165a684023a4451a62bda3f78cd5030": {
          "model_module": "@jupyter-widgets/base",
          "model_name": "LayoutModel",
          "model_module_version": "1.2.0",
          "state": {
            "_view_name": "LayoutView",
            "grid_template_rows": null,
            "right": null,
            "justify_content": null,
            "_view_module": "@jupyter-widgets/base",
            "overflow": null,
            "_model_module_version": "1.2.0",
            "_view_count": null,
            "flex_flow": null,
            "width": null,
            "min_width": null,
            "border": null,
            "align_items": null,
            "bottom": null,
            "_model_module": "@jupyter-widgets/base",
            "top": null,
            "grid_column": null,
            "overflow_y": null,
            "overflow_x": null,
            "grid_auto_flow": null,
            "grid_area": null,
            "grid_template_columns": null,
            "flex": null,
            "_model_name": "LayoutModel",
            "justify_items": null,
            "grid_row": null,
            "max_height": null,
            "align_content": null,
            "visibility": null,
            "align_self": null,
            "height": null,
            "min_height": null,
            "padding": null,
            "grid_auto_rows": null,
            "grid_gap": null,
            "max_width": null,
            "order": null,
            "_view_module_version": "1.2.0",
            "grid_template_areas": null,
            "object_position": null,
            "object_fit": null,
            "grid_auto_columns": null,
            "margin": null,
            "display": null,
            "left": null
          }
        },
        "faf1f400d65b4aa3b099f719b78ea5bb": {
          "model_module": "@jupyter-widgets/controls",
          "model_name": "HTMLModel",
          "model_module_version": "1.5.0",
          "state": {
            "_view_name": "HTMLView",
            "style": "IPY_MODEL_0993688bd12f4770a6eb5b96d2288f50",
            "_dom_classes": [],
            "description": "",
            "_model_name": "HTMLModel",
            "placeholder": "​",
            "_view_module": "@jupyter-widgets/controls",
            "_model_module_version": "1.5.0",
            "value": "100%",
            "_view_count": null,
            "_view_module_version": "1.5.0",
            "description_tooltip": null,
            "_model_module": "@jupyter-widgets/controls",
            "layout": "IPY_MODEL_980fe453da654bd2a33e370a52e335ed"
          }
        },
        "ec94e3c298ae465188ac9d695f8edaa6": {
          "model_module": "@jupyter-widgets/controls",
          "model_name": "FloatProgressModel",
          "model_module_version": "1.5.0",
          "state": {
            "_view_name": "ProgressView",
            "style": "IPY_MODEL_ee53cf799278448ea29ee710ef7c1ef2",
            "_dom_classes": [],
            "description": "",
            "_model_name": "FloatProgressModel",
            "bar_style": "",
            "max": 4394,
            "_view_module": "@jupyter-widgets/controls",
            "_model_module_version": "1.5.0",
            "value": 4394,
            "_view_count": null,
            "_view_module_version": "1.5.0",
            "orientation": "horizontal",
            "min": 0,
            "description_tooltip": null,
            "_model_module": "@jupyter-widgets/controls",
            "layout": "IPY_MODEL_47427ffac1ff4882bc53643d2b5298a4"
          }
        },
        "f9b77881b4154fde886cd01ac752d13b": {
          "model_module": "@jupyter-widgets/controls",
          "model_name": "HTMLModel",
          "model_module_version": "1.5.0",
          "state": {
            "_view_name": "HTMLView",
            "style": "IPY_MODEL_bda680f13ebc43fb882e84eaa65fb842",
            "_dom_classes": [],
            "description": "",
            "_model_name": "HTMLModel",
            "placeholder": "​",
            "_view_module": "@jupyter-widgets/controls",
            "_model_module_version": "1.5.0",
            "value": " 4383/4394 [00:18&lt;00:00, 249.87it/s]",
            "_view_count": null,
            "_view_module_version": "1.5.0",
            "description_tooltip": null,
            "_model_module": "@jupyter-widgets/controls",
            "layout": "IPY_MODEL_d96b3c90451247efac49fcb25addda04"
          }
        },
        "0993688bd12f4770a6eb5b96d2288f50": {
          "model_module": "@jupyter-widgets/controls",
          "model_name": "DescriptionStyleModel",
          "model_module_version": "1.5.0",
          "state": {
            "_view_name": "StyleView",
            "_model_name": "DescriptionStyleModel",
            "description_width": "",
            "_view_module": "@jupyter-widgets/base",
            "_model_module_version": "1.5.0",
            "_view_count": null,
            "_view_module_version": "1.2.0",
            "_model_module": "@jupyter-widgets/controls"
          }
        },
        "980fe453da654bd2a33e370a52e335ed": {
          "model_module": "@jupyter-widgets/base",
          "model_name": "LayoutModel",
          "model_module_version": "1.2.0",
          "state": {
            "_view_name": "LayoutView",
            "grid_template_rows": null,
            "right": null,
            "justify_content": null,
            "_view_module": "@jupyter-widgets/base",
            "overflow": null,
            "_model_module_version": "1.2.0",
            "_view_count": null,
            "flex_flow": null,
            "width": null,
            "min_width": null,
            "border": null,
            "align_items": null,
            "bottom": null,
            "_model_module": "@jupyter-widgets/base",
            "top": null,
            "grid_column": null,
            "overflow_y": null,
            "overflow_x": null,
            "grid_auto_flow": null,
            "grid_area": null,
            "grid_template_columns": null,
            "flex": null,
            "_model_name": "LayoutModel",
            "justify_items": null,
            "grid_row": null,
            "max_height": null,
            "align_content": null,
            "visibility": null,
            "align_self": null,
            "height": null,
            "min_height": null,
            "padding": null,
            "grid_auto_rows": null,
            "grid_gap": null,
            "max_width": null,
            "order": null,
            "_view_module_version": "1.2.0",
            "grid_template_areas": null,
            "object_position": null,
            "object_fit": null,
            "grid_auto_columns": null,
            "margin": null,
            "display": null,
            "left": null
          }
        },
        "ee53cf799278448ea29ee710ef7c1ef2": {
          "model_module": "@jupyter-widgets/controls",
          "model_name": "ProgressStyleModel",
          "model_module_version": "1.5.0",
          "state": {
            "_view_name": "StyleView",
            "_model_name": "ProgressStyleModel",
            "description_width": "",
            "_view_module": "@jupyter-widgets/base",
            "_model_module_version": "1.5.0",
            "_view_count": null,
            "_view_module_version": "1.2.0",
            "bar_color": null,
            "_model_module": "@jupyter-widgets/controls"
          }
        },
        "47427ffac1ff4882bc53643d2b5298a4": {
          "model_module": "@jupyter-widgets/base",
          "model_name": "LayoutModel",
          "model_module_version": "1.2.0",
          "state": {
            "_view_name": "LayoutView",
            "grid_template_rows": null,
            "right": null,
            "justify_content": null,
            "_view_module": "@jupyter-widgets/base",
            "overflow": null,
            "_model_module_version": "1.2.0",
            "_view_count": null,
            "flex_flow": null,
            "width": null,
            "min_width": null,
            "border": null,
            "align_items": null,
            "bottom": null,
            "_model_module": "@jupyter-widgets/base",
            "top": null,
            "grid_column": null,
            "overflow_y": null,
            "overflow_x": null,
            "grid_auto_flow": null,
            "grid_area": null,
            "grid_template_columns": null,
            "flex": null,
            "_model_name": "LayoutModel",
            "justify_items": null,
            "grid_row": null,
            "max_height": null,
            "align_content": null,
            "visibility": null,
            "align_self": null,
            "height": null,
            "min_height": null,
            "padding": null,
            "grid_auto_rows": null,
            "grid_gap": null,
            "max_width": null,
            "order": null,
            "_view_module_version": "1.2.0",
            "grid_template_areas": null,
            "object_position": null,
            "object_fit": null,
            "grid_auto_columns": null,
            "margin": null,
            "display": null,
            "left": null
          }
        },
        "bda680f13ebc43fb882e84eaa65fb842": {
          "model_module": "@jupyter-widgets/controls",
          "model_name": "DescriptionStyleModel",
          "model_module_version": "1.5.0",
          "state": {
            "_view_name": "StyleView",
            "_model_name": "DescriptionStyleModel",
            "description_width": "",
            "_view_module": "@jupyter-widgets/base",
            "_model_module_version": "1.5.0",
            "_view_count": null,
            "_view_module_version": "1.2.0",
            "_model_module": "@jupyter-widgets/controls"
          }
        },
        "d96b3c90451247efac49fcb25addda04": {
          "model_module": "@jupyter-widgets/base",
          "model_name": "LayoutModel",
          "model_module_version": "1.2.0",
          "state": {
            "_view_name": "LayoutView",
            "grid_template_rows": null,
            "right": null,
            "justify_content": null,
            "_view_module": "@jupyter-widgets/base",
            "overflow": null,
            "_model_module_version": "1.2.0",
            "_view_count": null,
            "flex_flow": null,
            "width": null,
            "min_width": null,
            "border": null,
            "align_items": null,
            "bottom": null,
            "_model_module": "@jupyter-widgets/base",
            "top": null,
            "grid_column": null,
            "overflow_y": null,
            "overflow_x": null,
            "grid_auto_flow": null,
            "grid_area": null,
            "grid_template_columns": null,
            "flex": null,
            "_model_name": "LayoutModel",
            "justify_items": null,
            "grid_row": null,
            "max_height": null,
            "align_content": null,
            "visibility": null,
            "align_self": null,
            "height": null,
            "min_height": null,
            "padding": null,
            "grid_auto_rows": null,
            "grid_gap": null,
            "max_width": null,
            "order": null,
            "_view_module_version": "1.2.0",
            "grid_template_areas": null,
            "object_position": null,
            "object_fit": null,
            "grid_auto_columns": null,
            "margin": null,
            "display": null,
            "left": null
          }
        }
      }
    }
  },
  "cells": [
    {
      "cell_type": "markdown",
      "metadata": {
        "id": "view-in-github",
        "colab_type": "text"
      },
      "source": [
        "<a href=\"https://colab.research.google.com/github/anhphong22/ML_Implementation/blob/master/Detection.ipynb\" target=\"_parent\"><img src=\"https://colab.research.google.com/assets/colab-badge.svg\" alt=\"Open In Colab\"/></a>"
      ]
    },
    {
      "cell_type": "markdown",
      "metadata": {
        "id": "MzbGN_6bg6nw"
      },
      "source": [
        "#**Baseline Model**\n",
        "#1. [Detection]\n",
        "**Dataset**\n",
        "- No external data (optional: CheXNet public data)\n",
        "- Image resolution: 512 x 512\n",
        "- Abnormal images (remove class 14: `No finding`)\n",
        "\n",
        "**Model**\n",
        "- SSD 512\n",
        "- use this repo: https://github.com/sgrvinod/a-PyTorch-Tutorial-to-Object-Detection\n",
        "- encoder: VGG16 (pytorch model zoo pretrained)\n",
        "\n",
        "**Train**\n",
        "- Single fold\n",
        "- Augmentation: hflip, scale, shift, random brightness/ contrast\n",
        "- Cls loss: focal loss, regression loss: l1\n",
        "- Epochs: 60\n",
        "- Optimizer: Adam (Optional: CrossEntropy)\n",
        "- Scheduler: cosine annealing\n",
        "\n",
        "#2. [Classification]\n",
        "Note: classify the abnormal images\n",
        "\n",
        "#Reference\n",
        "http://cs230.stanford.edu/projects_winter_2021/reports/70750031.pdf\n",
        "\n",
        "\n",
        "\n"
      ]
    },
    {
      "cell_type": "markdown",
      "metadata": {
        "id": "Zwu6HNNMlHSg"
      },
      "source": [
        "#**Pipeline**"
      ]
    },
    {
      "cell_type": "code",
      "metadata": {
        "id": "owwpjA7tgwW1"
      },
      "source": [
        "%load_ext autoreload\n",
        "%autoreload 2"
      ],
      "execution_count": 1,
      "outputs": []
    },
    {
      "cell_type": "code",
      "metadata": {
        "colab": {
          "base_uri": "https://localhost:8080/"
        },
        "id": "Po3hL1Yeg5SP",
        "outputId": "49107fe2-2a95-4814-ee5b-b952b597e951"
      },
      "source": [
        "from google.colab import drive\n",
        "drive.mount('/content/drive')"
      ],
      "execution_count": 2,
      "outputs": [
        {
          "output_type": "stream",
          "name": "stdout",
          "text": [
            "Mounted at /content/drive\n"
          ]
        }
      ]
    },
    {
      "cell_type": "code",
      "metadata": {
        "colab": {
          "base_uri": "https://localhost:8080/"
        },
        "id": "r05FajZAhAoF",
        "outputId": "0965a7af-c1f3-4850-a52e-588573fdc05d"
      },
      "source": [
        "import os \n",
        "GOOGLE_DRIVE_PATH_AFTER_MYDRIVE = 'CV02_Chest_X-RAY'\n",
        "GOOGLE_DRIVE_PATH = os.path.join('drive', 'MyDrive', GOOGLE_DRIVE_PATH_AFTER_MYDRIVE)\n",
        "print(os.listdir(GOOGLE_DRIVE_PATH))"
      ],
      "execution_count": 3,
      "outputs": [
        {
          "output_type": "stream",
          "name": "stdout",
          "text": [
            "['chest_X-ray', '.ipynb_checkpoints', 'chest-xray-dataset.zip', 'vinbigdata', 'module', 'Detection.ipynb']\n"
          ]
        }
      ]
    },
    {
      "cell_type": "code",
      "metadata": {
        "id": "GILKWBSdhlcj"
      },
      "source": [
        "import sys\n",
        "sys.path.append(GOOGLE_DRIVE_PATH)\n",
        "\n",
        "import time, os\n",
        "os.environ['TZ'] = \"Asia/Kolkata\"\n",
        "time.tzset()\n"
      ],
      "execution_count": 4,
      "outputs": []
    },
    {
      "cell_type": "code",
      "metadata": {
        "id": "-8InDaZLh1lT"
      },
      "source": [
        "import pandas as pd \n",
        "import numpy as np\n",
        "\n",
        "\n",
        "import torch\n",
        "import torchvision\n",
        "from torchvision.ops.boxes import batched_nms\n",
        "import matplotlib.pyplot as plt\n",
        "import statistics\n",
        "import random\n",
        "import time\n",
        "import math\n",
        "%matplotlib inline\n",
        "\n",
        "plt.rcParams['figure.figsize'] = (10.0, 8.0)\n",
        "plt.rcParams['font.size'] = 14"
      ],
      "execution_count": 5,
      "outputs": []
    },
    {
      "cell_type": "code",
      "metadata": {
        "colab": {
          "base_uri": "https://localhost:8080/"
        },
        "id": "h2CmYdEHh59r",
        "outputId": "a5f41942-1ad9-49b7-fd41-c684f31d067e"
      },
      "source": [
        "if torch.cuda.is_available:\n",
        "  print('Good to go!')\n",
        "else:\n",
        "  print('Please set GPU')"
      ],
      "execution_count": 6,
      "outputs": [
        {
          "output_type": "stream",
          "name": "stdout",
          "text": [
            "Good to go!\n"
          ]
        }
      ]
    },
    {
      "cell_type": "markdown",
      "metadata": {
        "id": "z4uShbt9h9QV"
      },
      "source": [
        "# Load the chest X-RAY dataset"
      ]
    },
    {
      "cell_type": "code",
      "metadata": {
        "id": "vC-bvBTXxxJz"
      },
      "source": [
        "from module.data import image_storage"
      ],
      "execution_count": 7,
      "outputs": []
    },
    {
      "cell_type": "code",
      "metadata": {
        "id": "gHrTpcXIx3Aq"
      },
      "source": [
        "phase = 'train'\n",
        "image_storage = image_storage(phase)"
      ],
      "execution_count": 8,
      "outputs": []
    },
    {
      "cell_type": "code",
      "metadata": {
        "id": "FwtzUruXyi-a"
      },
      "source": [
        "from google.colab.patches import cv2_imshow\n",
        "from skimage import io\n",
        "img = io.imread('/content/drive/MyDrive/CV02_Chest_X-RAY/vinbigdata/train/00053190460d56c53cc3e57321387478.png')"
      ],
      "execution_count": null,
      "outputs": []
    },
    {
      "cell_type": "code",
      "metadata": {
        "id": "Gjr9jqDQ23tu"
      },
      "source": [
        "def read_data(data_root, phase):\n",
        "  target= \"\".join([phase, \".csv\"])\n",
        "  data_path = os.path.join(data_root, target)\n",
        "  target_df = pd.read_csv(data_path)\n",
        "  return target_df\n"
      ],
      "execution_count": 10,
      "outputs": []
    },
    {
      "cell_type": "markdown",
      "metadata": {
        "id": "2cAgS9yFMFIz"
      },
      "source": [
        "# Part I: Pre-Processing and Exploratory Analysis of the Training Data"
      ]
    },
    {
      "cell_type": "code",
      "metadata": {
        "id": "hGDXL3Rn6ONZ"
      },
      "source": [
        "data_root = '/content/drive/MyDrive/CV02_Chest_X-RAY/vinbigdata'\n",
        "phase = 'train'\n",
        "train_df = read_data(data_root, phase)"
      ],
      "execution_count": 11,
      "outputs": []
    },
    {
      "cell_type": "code",
      "metadata": {
        "colab": {
          "base_uri": "https://localhost:8080/",
          "height": 419
        },
        "id": "i2FPTSx16YYg",
        "outputId": "b114374d-bd9d-4778-dddd-69b2a90a514f"
      },
      "source": [
        "train_df = train_df[train_df.class_id != 14].reset_index(drop= True)\n",
        "train_df"
      ],
      "execution_count": 12,
      "outputs": [
        {
          "output_type": "execute_result",
          "data": {
            "text/html": [
              "<div>\n",
              "<style scoped>\n",
              "    .dataframe tbody tr th:only-of-type {\n",
              "        vertical-align: middle;\n",
              "    }\n",
              "\n",
              "    .dataframe tbody tr th {\n",
              "        vertical-align: top;\n",
              "    }\n",
              "\n",
              "    .dataframe thead th {\n",
              "        text-align: right;\n",
              "    }\n",
              "</style>\n",
              "<table border=\"1\" class=\"dataframe\">\n",
              "  <thead>\n",
              "    <tr style=\"text-align: right;\">\n",
              "      <th></th>\n",
              "      <th>image_id</th>\n",
              "      <th>class_name</th>\n",
              "      <th>class_id</th>\n",
              "      <th>rad_id</th>\n",
              "      <th>x_min</th>\n",
              "      <th>y_min</th>\n",
              "      <th>x_max</th>\n",
              "      <th>y_max</th>\n",
              "      <th>width</th>\n",
              "      <th>height</th>\n",
              "    </tr>\n",
              "  </thead>\n",
              "  <tbody>\n",
              "    <tr>\n",
              "      <th>0</th>\n",
              "      <td>9a5094b2563a1ef3ff50dc5c7ff71345</td>\n",
              "      <td>Cardiomegaly</td>\n",
              "      <td>3</td>\n",
              "      <td>R10</td>\n",
              "      <td>691.0</td>\n",
              "      <td>1375.0</td>\n",
              "      <td>1653.0</td>\n",
              "      <td>1831.0</td>\n",
              "      <td>2080</td>\n",
              "      <td>2336</td>\n",
              "    </tr>\n",
              "    <tr>\n",
              "      <th>1</th>\n",
              "      <td>051132a778e61a86eb147c7c6f564dfe</td>\n",
              "      <td>Aortic enlargement</td>\n",
              "      <td>0</td>\n",
              "      <td>R10</td>\n",
              "      <td>1264.0</td>\n",
              "      <td>743.0</td>\n",
              "      <td>1611.0</td>\n",
              "      <td>1019.0</td>\n",
              "      <td>2304</td>\n",
              "      <td>2880</td>\n",
              "    </tr>\n",
              "    <tr>\n",
              "      <th>2</th>\n",
              "      <td>1c32170b4af4ce1a3030eb8167753b06</td>\n",
              "      <td>Pleural thickening</td>\n",
              "      <td>11</td>\n",
              "      <td>R9</td>\n",
              "      <td>627.0</td>\n",
              "      <td>357.0</td>\n",
              "      <td>947.0</td>\n",
              "      <td>433.0</td>\n",
              "      <td>2540</td>\n",
              "      <td>3072</td>\n",
              "    </tr>\n",
              "    <tr>\n",
              "      <th>3</th>\n",
              "      <td>0c7a38f293d5f5e4846aa4ca6db4daf1</td>\n",
              "      <td>ILD</td>\n",
              "      <td>5</td>\n",
              "      <td>R17</td>\n",
              "      <td>1347.0</td>\n",
              "      <td>245.0</td>\n",
              "      <td>2188.0</td>\n",
              "      <td>2169.0</td>\n",
              "      <td>2285</td>\n",
              "      <td>2555</td>\n",
              "    </tr>\n",
              "    <tr>\n",
              "      <th>4</th>\n",
              "      <td>47ed17dcb2cbeec15182ed335a8b5a9e</td>\n",
              "      <td>Nodule/Mass</td>\n",
              "      <td>8</td>\n",
              "      <td>R9</td>\n",
              "      <td>557.0</td>\n",
              "      <td>2352.0</td>\n",
              "      <td>675.0</td>\n",
              "      <td>2484.0</td>\n",
              "      <td>2568</td>\n",
              "      <td>3353</td>\n",
              "    </tr>\n",
              "    <tr>\n",
              "      <th>...</th>\n",
              "      <td>...</td>\n",
              "      <td>...</td>\n",
              "      <td>...</td>\n",
              "      <td>...</td>\n",
              "      <td>...</td>\n",
              "      <td>...</td>\n",
              "      <td>...</td>\n",
              "      <td>...</td>\n",
              "      <td>...</td>\n",
              "      <td>...</td>\n",
              "    </tr>\n",
              "    <tr>\n",
              "      <th>36091</th>\n",
              "      <td>b53d1dd80e99ca6bcef9d592f65d3321</td>\n",
              "      <td>Pleural effusion</td>\n",
              "      <td>10</td>\n",
              "      <td>R9</td>\n",
              "      <td>240.0</td>\n",
              "      <td>1550.0</td>\n",
              "      <td>562.0</td>\n",
              "      <td>2001.0</td>\n",
              "      <td>2304</td>\n",
              "      <td>2880</td>\n",
              "    </tr>\n",
              "    <tr>\n",
              "      <th>36092</th>\n",
              "      <td>26d1d5a0ef2e692c6340e74859ffdc53</td>\n",
              "      <td>Pulmonary fibrosis</td>\n",
              "      <td>13</td>\n",
              "      <td>R10</td>\n",
              "      <td>1163.0</td>\n",
              "      <td>787.0</td>\n",
              "      <td>1338.0</td>\n",
              "      <td>941.0</td>\n",
              "      <td>3072</td>\n",
              "      <td>3072</td>\n",
              "    </tr>\n",
              "    <tr>\n",
              "      <th>36093</th>\n",
              "      <td>22672ab82c290c20b86863291e25ef6c</td>\n",
              "      <td>ILD</td>\n",
              "      <td>5</td>\n",
              "      <td>R9</td>\n",
              "      <td>299.0</td>\n",
              "      <td>664.0</td>\n",
              "      <td>794.0</td>\n",
              "      <td>1508.0</td>\n",
              "      <td>2048</td>\n",
              "      <td>2500</td>\n",
              "    </tr>\n",
              "    <tr>\n",
              "      <th>36094</th>\n",
              "      <td>db169d0be36123bd55b866d6aa73983b</td>\n",
              "      <td>Other lesion</td>\n",
              "      <td>9</td>\n",
              "      <td>R8</td>\n",
              "      <td>6.0</td>\n",
              "      <td>670.0</td>\n",
              "      <td>272.0</td>\n",
              "      <td>1736.0</td>\n",
              "      <td>2304</td>\n",
              "      <td>2880</td>\n",
              "    </tr>\n",
              "    <tr>\n",
              "      <th>36095</th>\n",
              "      <td>4b56bc6d22b192f075f13231419dfcc8</td>\n",
              "      <td>Cardiomegaly</td>\n",
              "      <td>3</td>\n",
              "      <td>R8</td>\n",
              "      <td>771.0</td>\n",
              "      <td>979.0</td>\n",
              "      <td>1680.0</td>\n",
              "      <td>1311.0</td>\n",
              "      <td>1968</td>\n",
              "      <td>2040</td>\n",
              "    </tr>\n",
              "  </tbody>\n",
              "</table>\n",
              "<p>36096 rows × 10 columns</p>\n",
              "</div>"
            ],
            "text/plain": [
              "                               image_id          class_name  ...  width height\n",
              "0      9a5094b2563a1ef3ff50dc5c7ff71345        Cardiomegaly  ...   2080   2336\n",
              "1      051132a778e61a86eb147c7c6f564dfe  Aortic enlargement  ...   2304   2880\n",
              "2      1c32170b4af4ce1a3030eb8167753b06  Pleural thickening  ...   2540   3072\n",
              "3      0c7a38f293d5f5e4846aa4ca6db4daf1                 ILD  ...   2285   2555\n",
              "4      47ed17dcb2cbeec15182ed335a8b5a9e         Nodule/Mass  ...   2568   3353\n",
              "...                                 ...                 ...  ...    ...    ...\n",
              "36091  b53d1dd80e99ca6bcef9d592f65d3321    Pleural effusion  ...   2304   2880\n",
              "36092  26d1d5a0ef2e692c6340e74859ffdc53  Pulmonary fibrosis  ...   3072   3072\n",
              "36093  22672ab82c290c20b86863291e25ef6c                 ILD  ...   2048   2500\n",
              "36094  db169d0be36123bd55b866d6aa73983b        Other lesion  ...   2304   2880\n",
              "36095  4b56bc6d22b192f075f13231419dfcc8        Cardiomegaly  ...   1968   2040\n",
              "\n",
              "[36096 rows x 10 columns]"
            ]
          },
          "metadata": {},
          "execution_count": 12
        }
      ]
    },
    {
      "cell_type": "markdown",
      "metadata": {
        "id": "OZj-4K6knqQs"
      },
      "source": [
        "#Yolo v5"
      ]
    },
    {
      "cell_type": "code",
      "metadata": {
        "colab": {
          "base_uri": "https://localhost:8080/"
        },
        "id": "-9NGo_wpnwPa",
        "outputId": "b45b079b-6941-4768-9eb1-ba04cfd944a7"
      },
      "source": [
        "# check gpu\n",
        "!nvidia-smi"
      ],
      "execution_count": 14,
      "outputs": [
        {
          "output_type": "stream",
          "name": "stdout",
          "text": [
            "Fri Sep 24 12:54:35 2021       \n",
            "+-----------------------------------------------------------------------------+\n",
            "| NVIDIA-SMI 470.63.01    Driver Version: 460.32.03    CUDA Version: 11.2     |\n",
            "|-------------------------------+----------------------+----------------------+\n",
            "| GPU  Name        Persistence-M| Bus-Id        Disp.A | Volatile Uncorr. ECC |\n",
            "| Fan  Temp  Perf  Pwr:Usage/Cap|         Memory-Usage | GPU-Util  Compute M. |\n",
            "|                               |                      |               MIG M. |\n",
            "|===============================+======================+======================|\n",
            "|   0  Tesla P100-PCIE...  Off  | 00000000:00:04.0 Off |                    0 |\n",
            "| N/A   39C    P0    27W / 250W |      0MiB / 16280MiB |      0%      Default |\n",
            "|                               |                      |                  N/A |\n",
            "+-------------------------------+----------------------+----------------------+\n",
            "                                                                               \n",
            "+-----------------------------------------------------------------------------+\n",
            "| Processes:                                                                  |\n",
            "|  GPU   GI   CI        PID   Type   Process name                  GPU Memory |\n",
            "|        ID   ID                                                   Usage      |\n",
            "|=============================================================================|\n",
            "|  No running processes found                                                 |\n",
            "+-----------------------------------------------------------------------------+\n"
          ]
        }
      ]
    },
    {
      "cell_type": "code",
      "metadata": {
        "colab": {
          "base_uri": "https://localhost:8080/"
        },
        "id": "hf8Mya16r4TZ",
        "outputId": "3c636cba-130d-4578-b864-922f05dc4926"
      },
      "source": [
        "!pip install -r /content/drive/MyDrive/CV02_Chest_X-RAY/yolov5/requirements.txt"
      ],
      "execution_count": 15,
      "outputs": [
        {
          "output_type": "stream",
          "name": "stdout",
          "text": [
            "Requirement already satisfied: matplotlib>=3.2.2 in /usr/local/lib/python3.7/dist-packages (from -r /content/drive/MyDrive/CV02_Chest_X-RAY/yolov5/requirements.txt (line 4)) (3.2.2)\n",
            "Requirement already satisfied: numpy>=1.18.5 in /usr/local/lib/python3.7/dist-packages (from -r /content/drive/MyDrive/CV02_Chest_X-RAY/yolov5/requirements.txt (line 5)) (1.19.5)\n",
            "Requirement already satisfied: opencv-python>=4.1.2 in /usr/local/lib/python3.7/dist-packages (from -r /content/drive/MyDrive/CV02_Chest_X-RAY/yolov5/requirements.txt (line 6)) (4.1.2.30)\n",
            "Requirement already satisfied: Pillow>=7.1.2 in /usr/local/lib/python3.7/dist-packages (from -r /content/drive/MyDrive/CV02_Chest_X-RAY/yolov5/requirements.txt (line 7)) (7.1.2)\n",
            "Collecting PyYAML>=5.3.1\n",
            "  Downloading PyYAML-5.4.1-cp37-cp37m-manylinux1_x86_64.whl (636 kB)\n",
            "\u001b[K     |████████████████████████████████| 636 kB 5.1 MB/s \n",
            "\u001b[?25hRequirement already satisfied: scipy>=1.4.1 in /usr/local/lib/python3.7/dist-packages (from -r /content/drive/MyDrive/CV02_Chest_X-RAY/yolov5/requirements.txt (line 9)) (1.4.1)\n",
            "Requirement already satisfied: torch>=1.7.0 in /usr/local/lib/python3.7/dist-packages (from -r /content/drive/MyDrive/CV02_Chest_X-RAY/yolov5/requirements.txt (line 10)) (1.9.0+cu102)\n",
            "Requirement already satisfied: torchvision>=0.8.1 in /usr/local/lib/python3.7/dist-packages (from -r /content/drive/MyDrive/CV02_Chest_X-RAY/yolov5/requirements.txt (line 11)) (0.10.0+cu102)\n",
            "Requirement already satisfied: tqdm>=4.41.0 in /usr/local/lib/python3.7/dist-packages (from -r /content/drive/MyDrive/CV02_Chest_X-RAY/yolov5/requirements.txt (line 12)) (4.62.2)\n",
            "Requirement already satisfied: tensorboard>=2.4.1 in /usr/local/lib/python3.7/dist-packages (from -r /content/drive/MyDrive/CV02_Chest_X-RAY/yolov5/requirements.txt (line 15)) (2.6.0)\n",
            "Requirement already satisfied: seaborn>=0.11.0 in /usr/local/lib/python3.7/dist-packages (from -r /content/drive/MyDrive/CV02_Chest_X-RAY/yolov5/requirements.txt (line 19)) (0.11.2)\n",
            "Requirement already satisfied: pandas in /usr/local/lib/python3.7/dist-packages (from -r /content/drive/MyDrive/CV02_Chest_X-RAY/yolov5/requirements.txt (line 20)) (1.1.5)\n",
            "Collecting thop\n",
            "  Downloading thop-0.0.31.post2005241907-py3-none-any.whl (8.7 kB)\n",
            "Requirement already satisfied: python-dateutil>=2.1 in /usr/local/lib/python3.7/dist-packages (from matplotlib>=3.2.2->-r /content/drive/MyDrive/CV02_Chest_X-RAY/yolov5/requirements.txt (line 4)) (2.8.2)\n",
            "Requirement already satisfied: kiwisolver>=1.0.1 in /usr/local/lib/python3.7/dist-packages (from matplotlib>=3.2.2->-r /content/drive/MyDrive/CV02_Chest_X-RAY/yolov5/requirements.txt (line 4)) (1.3.2)\n",
            "Requirement already satisfied: cycler>=0.10 in /usr/local/lib/python3.7/dist-packages (from matplotlib>=3.2.2->-r /content/drive/MyDrive/CV02_Chest_X-RAY/yolov5/requirements.txt (line 4)) (0.10.0)\n",
            "Requirement already satisfied: pyparsing!=2.0.4,!=2.1.2,!=2.1.6,>=2.0.1 in /usr/local/lib/python3.7/dist-packages (from matplotlib>=3.2.2->-r /content/drive/MyDrive/CV02_Chest_X-RAY/yolov5/requirements.txt (line 4)) (2.4.7)\n",
            "Requirement already satisfied: typing-extensions in /usr/local/lib/python3.7/dist-packages (from torch>=1.7.0->-r /content/drive/MyDrive/CV02_Chest_X-RAY/yolov5/requirements.txt (line 10)) (3.7.4.3)\n",
            "Requirement already satisfied: werkzeug>=0.11.15 in /usr/local/lib/python3.7/dist-packages (from tensorboard>=2.4.1->-r /content/drive/MyDrive/CV02_Chest_X-RAY/yolov5/requirements.txt (line 15)) (1.0.1)\n",
            "Requirement already satisfied: google-auth-oauthlib<0.5,>=0.4.1 in /usr/local/lib/python3.7/dist-packages (from tensorboard>=2.4.1->-r /content/drive/MyDrive/CV02_Chest_X-RAY/yolov5/requirements.txt (line 15)) (0.4.6)\n",
            "Requirement already satisfied: protobuf>=3.6.0 in /usr/local/lib/python3.7/dist-packages (from tensorboard>=2.4.1->-r /content/drive/MyDrive/CV02_Chest_X-RAY/yolov5/requirements.txt (line 15)) (3.17.3)\n",
            "Requirement already satisfied: google-auth<2,>=1.6.3 in /usr/local/lib/python3.7/dist-packages (from tensorboard>=2.4.1->-r /content/drive/MyDrive/CV02_Chest_X-RAY/yolov5/requirements.txt (line 15)) (1.35.0)\n",
            "Requirement already satisfied: wheel>=0.26 in /usr/local/lib/python3.7/dist-packages (from tensorboard>=2.4.1->-r /content/drive/MyDrive/CV02_Chest_X-RAY/yolov5/requirements.txt (line 15)) (0.37.0)\n",
            "Requirement already satisfied: tensorboard-plugin-wit>=1.6.0 in /usr/local/lib/python3.7/dist-packages (from tensorboard>=2.4.1->-r /content/drive/MyDrive/CV02_Chest_X-RAY/yolov5/requirements.txt (line 15)) (1.8.0)\n",
            "Requirement already satisfied: grpcio>=1.24.3 in /usr/local/lib/python3.7/dist-packages (from tensorboard>=2.4.1->-r /content/drive/MyDrive/CV02_Chest_X-RAY/yolov5/requirements.txt (line 15)) (1.40.0)\n",
            "Requirement already satisfied: tensorboard-data-server<0.7.0,>=0.6.0 in /usr/local/lib/python3.7/dist-packages (from tensorboard>=2.4.1->-r /content/drive/MyDrive/CV02_Chest_X-RAY/yolov5/requirements.txt (line 15)) (0.6.1)\n",
            "Requirement already satisfied: requests<3,>=2.21.0 in /usr/local/lib/python3.7/dist-packages (from tensorboard>=2.4.1->-r /content/drive/MyDrive/CV02_Chest_X-RAY/yolov5/requirements.txt (line 15)) (2.23.0)\n",
            "Requirement already satisfied: absl-py>=0.4 in /usr/local/lib/python3.7/dist-packages (from tensorboard>=2.4.1->-r /content/drive/MyDrive/CV02_Chest_X-RAY/yolov5/requirements.txt (line 15)) (0.12.0)\n",
            "Requirement already satisfied: setuptools>=41.0.0 in /usr/local/lib/python3.7/dist-packages (from tensorboard>=2.4.1->-r /content/drive/MyDrive/CV02_Chest_X-RAY/yolov5/requirements.txt (line 15)) (57.4.0)\n",
            "Requirement already satisfied: markdown>=2.6.8 in /usr/local/lib/python3.7/dist-packages (from tensorboard>=2.4.1->-r /content/drive/MyDrive/CV02_Chest_X-RAY/yolov5/requirements.txt (line 15)) (3.3.4)\n",
            "Requirement already satisfied: pytz>=2017.2 in /usr/local/lib/python3.7/dist-packages (from pandas->-r /content/drive/MyDrive/CV02_Chest_X-RAY/yolov5/requirements.txt (line 20)) (2018.9)\n",
            "Requirement already satisfied: six in /usr/local/lib/python3.7/dist-packages (from absl-py>=0.4->tensorboard>=2.4.1->-r /content/drive/MyDrive/CV02_Chest_X-RAY/yolov5/requirements.txt (line 15)) (1.15.0)\n",
            "Requirement already satisfied: rsa<5,>=3.1.4 in /usr/local/lib/python3.7/dist-packages (from google-auth<2,>=1.6.3->tensorboard>=2.4.1->-r /content/drive/MyDrive/CV02_Chest_X-RAY/yolov5/requirements.txt (line 15)) (4.7.2)\n",
            "Requirement already satisfied: cachetools<5.0,>=2.0.0 in /usr/local/lib/python3.7/dist-packages (from google-auth<2,>=1.6.3->tensorboard>=2.4.1->-r /content/drive/MyDrive/CV02_Chest_X-RAY/yolov5/requirements.txt (line 15)) (4.2.2)\n",
            "Requirement already satisfied: pyasn1-modules>=0.2.1 in /usr/local/lib/python3.7/dist-packages (from google-auth<2,>=1.6.3->tensorboard>=2.4.1->-r /content/drive/MyDrive/CV02_Chest_X-RAY/yolov5/requirements.txt (line 15)) (0.2.8)\n",
            "Requirement already satisfied: requests-oauthlib>=0.7.0 in /usr/local/lib/python3.7/dist-packages (from google-auth-oauthlib<0.5,>=0.4.1->tensorboard>=2.4.1->-r /content/drive/MyDrive/CV02_Chest_X-RAY/yolov5/requirements.txt (line 15)) (1.3.0)\n",
            "Requirement already satisfied: importlib-metadata in /usr/local/lib/python3.7/dist-packages (from markdown>=2.6.8->tensorboard>=2.4.1->-r /content/drive/MyDrive/CV02_Chest_X-RAY/yolov5/requirements.txt (line 15)) (4.8.1)\n",
            "Requirement already satisfied: pyasn1<0.5.0,>=0.4.6 in /usr/local/lib/python3.7/dist-packages (from pyasn1-modules>=0.2.1->google-auth<2,>=1.6.3->tensorboard>=2.4.1->-r /content/drive/MyDrive/CV02_Chest_X-RAY/yolov5/requirements.txt (line 15)) (0.4.8)\n",
            "Requirement already satisfied: certifi>=2017.4.17 in /usr/local/lib/python3.7/dist-packages (from requests<3,>=2.21.0->tensorboard>=2.4.1->-r /content/drive/MyDrive/CV02_Chest_X-RAY/yolov5/requirements.txt (line 15)) (2021.5.30)\n",
            "Requirement already satisfied: chardet<4,>=3.0.2 in /usr/local/lib/python3.7/dist-packages (from requests<3,>=2.21.0->tensorboard>=2.4.1->-r /content/drive/MyDrive/CV02_Chest_X-RAY/yolov5/requirements.txt (line 15)) (3.0.4)\n",
            "Requirement already satisfied: urllib3!=1.25.0,!=1.25.1,<1.26,>=1.21.1 in /usr/local/lib/python3.7/dist-packages (from requests<3,>=2.21.0->tensorboard>=2.4.1->-r /content/drive/MyDrive/CV02_Chest_X-RAY/yolov5/requirements.txt (line 15)) (1.24.3)\n",
            "Requirement already satisfied: idna<3,>=2.5 in /usr/local/lib/python3.7/dist-packages (from requests<3,>=2.21.0->tensorboard>=2.4.1->-r /content/drive/MyDrive/CV02_Chest_X-RAY/yolov5/requirements.txt (line 15)) (2.10)\n",
            "Requirement already satisfied: oauthlib>=3.0.0 in /usr/local/lib/python3.7/dist-packages (from requests-oauthlib>=0.7.0->google-auth-oauthlib<0.5,>=0.4.1->tensorboard>=2.4.1->-r /content/drive/MyDrive/CV02_Chest_X-RAY/yolov5/requirements.txt (line 15)) (3.1.1)\n",
            "Requirement already satisfied: zipp>=0.5 in /usr/local/lib/python3.7/dist-packages (from importlib-metadata->markdown>=2.6.8->tensorboard>=2.4.1->-r /content/drive/MyDrive/CV02_Chest_X-RAY/yolov5/requirements.txt (line 15)) (3.5.0)\n",
            "Installing collected packages: thop, PyYAML\n",
            "  Attempting uninstall: PyYAML\n",
            "    Found existing installation: PyYAML 3.13\n",
            "    Uninstalling PyYAML-3.13:\n",
            "      Successfully uninstalled PyYAML-3.13\n",
            "Successfully installed PyYAML-5.4.1 thop-0.0.31.post2005241907\n"
          ]
        }
      ]
    },
    {
      "cell_type": "code",
      "metadata": {
        "colab": {
          "base_uri": "https://localhost:8080/"
        },
        "id": "Igz3H5c7su9V",
        "outputId": "40fe14bb-2800-4e73-9a60-48150eb04185"
      },
      "source": [
        "!pip install timm"
      ],
      "execution_count": 16,
      "outputs": [
        {
          "output_type": "stream",
          "name": "stdout",
          "text": [
            "Collecting timm\n",
            "  Downloading timm-0.4.12-py3-none-any.whl (376 kB)\n",
            "\u001b[?25l\r\u001b[K     |▉                               | 10 kB 3.5 MB/s eta 0:00:01\r\u001b[K     |█▊                              | 20 kB 4.7 MB/s eta 0:00:01\r\u001b[K     |██▋                             | 30 kB 4.6 MB/s eta 0:00:01\r\u001b[K     |███▌                            | 40 kB 3.2 MB/s eta 0:00:01\r\u001b[K     |████▍                           | 51 kB 3.9 MB/s eta 0:00:01\r\u001b[K     |█████▏                          | 61 kB 4.4 MB/s eta 0:00:01\r\u001b[K     |██████                          | 71 kB 4.2 MB/s eta 0:00:01\r\u001b[K     |███████                         | 81 kB 4.8 MB/s eta 0:00:01\r\u001b[K     |███████▉                        | 92 kB 4.0 MB/s eta 0:00:01\r\u001b[K     |████████▊                       | 102 kB 4.4 MB/s eta 0:00:01\r\u001b[K     |█████████▋                      | 112 kB 4.4 MB/s eta 0:00:01\r\u001b[K     |██████████▍                     | 122 kB 4.4 MB/s eta 0:00:01\r\u001b[K     |███████████▎                    | 133 kB 4.4 MB/s eta 0:00:01\r\u001b[K     |████████████▏                   | 143 kB 4.4 MB/s eta 0:00:01\r\u001b[K     |█████████████                   | 153 kB 4.4 MB/s eta 0:00:01\r\u001b[K     |██████████████                  | 163 kB 4.4 MB/s eta 0:00:01\r\u001b[K     |██████████████▊                 | 174 kB 4.4 MB/s eta 0:00:01\r\u001b[K     |███████████████▋                | 184 kB 4.4 MB/s eta 0:00:01\r\u001b[K     |████████████████▌               | 194 kB 4.4 MB/s eta 0:00:01\r\u001b[K     |█████████████████▍              | 204 kB 4.4 MB/s eta 0:00:01\r\u001b[K     |██████████████████▎             | 215 kB 4.4 MB/s eta 0:00:01\r\u001b[K     |███████████████████▏            | 225 kB 4.4 MB/s eta 0:00:01\r\u001b[K     |████████████████████            | 235 kB 4.4 MB/s eta 0:00:01\r\u001b[K     |████████████████████▉           | 245 kB 4.4 MB/s eta 0:00:01\r\u001b[K     |█████████████████████▊          | 256 kB 4.4 MB/s eta 0:00:01\r\u001b[K     |██████████████████████▋         | 266 kB 4.4 MB/s eta 0:00:01\r\u001b[K     |███████████████████████▌        | 276 kB 4.4 MB/s eta 0:00:01\r\u001b[K     |████████████████████████▍       | 286 kB 4.4 MB/s eta 0:00:01\r\u001b[K     |█████████████████████████▏      | 296 kB 4.4 MB/s eta 0:00:01\r\u001b[K     |██████████████████████████      | 307 kB 4.4 MB/s eta 0:00:01\r\u001b[K     |███████████████████████████     | 317 kB 4.4 MB/s eta 0:00:01\r\u001b[K     |███████████████████████████▉    | 327 kB 4.4 MB/s eta 0:00:01\r\u001b[K     |████████████████████████████▊   | 337 kB 4.4 MB/s eta 0:00:01\r\u001b[K     |█████████████████████████████▌  | 348 kB 4.4 MB/s eta 0:00:01\r\u001b[K     |██████████████████████████████▍ | 358 kB 4.4 MB/s eta 0:00:01\r\u001b[K     |███████████████████████████████▎| 368 kB 4.4 MB/s eta 0:00:01\r\u001b[K     |████████████████████████████████| 376 kB 4.4 MB/s \n",
            "\u001b[?25hRequirement already satisfied: torch>=1.4 in /usr/local/lib/python3.7/dist-packages (from timm) (1.9.0+cu102)\n",
            "Requirement already satisfied: torchvision in /usr/local/lib/python3.7/dist-packages (from timm) (0.10.0+cu102)\n",
            "Requirement already satisfied: typing-extensions in /usr/local/lib/python3.7/dist-packages (from torch>=1.4->timm) (3.7.4.3)\n",
            "Requirement already satisfied: numpy in /usr/local/lib/python3.7/dist-packages (from torchvision->timm) (1.19.5)\n",
            "Requirement already satisfied: pillow>=5.3.0 in /usr/local/lib/python3.7/dist-packages (from torchvision->timm) (7.1.2)\n",
            "Installing collected packages: timm\n",
            "Successfully installed timm-0.4.12\n"
          ]
        }
      ]
    },
    {
      "cell_type": "markdown",
      "metadata": {
        "id": "RffujSKPs1gm"
      },
      "source": [
        "## Import Libraries"
      ]
    },
    {
      "cell_type": "code",
      "metadata": {
        "colab": {
          "base_uri": "https://localhost:8080/"
        },
        "id": "1p7K0OIJui-e",
        "outputId": "80dd6c0b-a110-468c-d8a5-2c4bd3d9d777"
      },
      "source": [
        "pip install iterative-stratification"
      ],
      "execution_count": 23,
      "outputs": [
        {
          "output_type": "stream",
          "name": "stdout",
          "text": [
            "Collecting iterative-stratification\n",
            "  Downloading iterative_stratification-0.1.6-py3-none-any.whl (8.7 kB)\n",
            "Requirement already satisfied: scikit-learn in /usr/local/lib/python3.7/dist-packages (from iterative-stratification) (0.22.2.post1)\n",
            "Requirement already satisfied: scipy in /usr/local/lib/python3.7/dist-packages (from iterative-stratification) (1.4.1)\n",
            "Requirement already satisfied: numpy in /usr/local/lib/python3.7/dist-packages (from iterative-stratification) (1.19.5)\n",
            "Requirement already satisfied: joblib>=0.11 in /usr/local/lib/python3.7/dist-packages (from scikit-learn->iterative-stratification) (1.0.1)\n",
            "Installing collected packages: iterative-stratification\n",
            "Successfully installed iterative-stratification-0.1.6\n"
          ]
        }
      ]
    },
    {
      "cell_type": "code",
      "metadata": {
        "colab": {
          "base_uri": "https://localhost:8080/"
        },
        "id": "0evhhNTuu78K",
        "outputId": "4f9ed899-769e-4219-adc5-752ab633f619"
      },
      "source": [
        "!pip install ensemble_boxes"
      ],
      "execution_count": 26,
      "outputs": [
        {
          "output_type": "stream",
          "name": "stdout",
          "text": [
            "Collecting ensemble_boxes\n",
            "  Downloading ensemble_boxes-1.0.7-py3-none-any.whl (20 kB)\n",
            "Requirement already satisfied: numpy in /usr/local/lib/python3.7/dist-packages (from ensemble_boxes) (1.19.5)\n",
            "Requirement already satisfied: numba in /usr/local/lib/python3.7/dist-packages (from ensemble_boxes) (0.51.2)\n",
            "Requirement already satisfied: pandas in /usr/local/lib/python3.7/dist-packages (from ensemble_boxes) (1.1.5)\n",
            "Requirement already satisfied: setuptools in /usr/local/lib/python3.7/dist-packages (from numba->ensemble_boxes) (57.4.0)\n",
            "Requirement already satisfied: llvmlite<0.35,>=0.34.0.dev0 in /usr/local/lib/python3.7/dist-packages (from numba->ensemble_boxes) (0.34.0)\n",
            "Requirement already satisfied: pytz>=2017.2 in /usr/local/lib/python3.7/dist-packages (from pandas->ensemble_boxes) (2018.9)\n",
            "Requirement already satisfied: python-dateutil>=2.7.3 in /usr/local/lib/python3.7/dist-packages (from pandas->ensemble_boxes) (2.8.2)\n",
            "Requirement already satisfied: six>=1.5 in /usr/local/lib/python3.7/dist-packages (from python-dateutil>=2.7.3->pandas->ensemble_boxes) (1.15.0)\n",
            "Installing collected packages: ensemble-boxes\n",
            "Successfully installed ensemble-boxes-1.0.7\n"
          ]
        }
      ]
    },
    {
      "cell_type": "code",
      "metadata": {
        "colab": {
          "base_uri": "https://localhost:8080/"
        },
        "id": "4FAncaspveBa",
        "outputId": "03a71915-7a7c-4fe6-f2e5-d4435649ae44"
      },
      "source": [
        "!pip install pydicom"
      ],
      "execution_count": 33,
      "outputs": [
        {
          "output_type": "stream",
          "name": "stdout",
          "text": [
            "Collecting pydicom\n",
            "  Downloading pydicom-2.2.1-py3-none-any.whl (2.0 MB)\n",
            "\u001b[K     |████████████████████████████████| 2.0 MB 5.1 MB/s \n",
            "\u001b[?25hInstalling collected packages: pydicom\n",
            "Successfully installed pydicom-2.2.1\n"
          ]
        }
      ]
    },
    {
      "cell_type": "code",
      "metadata": {
        "colab": {
          "base_uri": "https://localhost:8080/"
        },
        "id": "uExRIkZevtqS",
        "outputId": "da4ef961-4628-473e-8b59-3c5b3774fbe9"
      },
      "source": [
        "pip install efficientnet-pytorch"
      ],
      "execution_count": 35,
      "outputs": [
        {
          "output_type": "stream",
          "name": "stdout",
          "text": [
            "Collecting efficientnet-pytorch\n",
            "  Downloading efficientnet_pytorch-0.7.1.tar.gz (21 kB)\n",
            "Requirement already satisfied: torch in /usr/local/lib/python3.7/dist-packages (from efficientnet-pytorch) (1.9.0+cu102)\n",
            "Requirement already satisfied: typing-extensions in /usr/local/lib/python3.7/dist-packages (from torch->efficientnet-pytorch) (3.7.4.3)\n",
            "Building wheels for collected packages: efficientnet-pytorch\n",
            "  Building wheel for efficientnet-pytorch (setup.py) ... \u001b[?25l\u001b[?25hdone\n",
            "  Created wheel for efficientnet-pytorch: filename=efficientnet_pytorch-0.7.1-py3-none-any.whl size=16446 sha256=05b7f5bd42e5e1adc1021c0dff20bb53cefd4b63aa42f0b76742ca58a23348ea\n",
            "  Stored in directory: /root/.cache/pip/wheels/0e/cc/b2/49e74588263573ff778da58cc99b9c6349b496636a7e165be6\n",
            "Successfully built efficientnet-pytorch\n",
            "Installing collected packages: efficientnet-pytorch\n",
            "Successfully installed efficientnet-pytorch-0.7.1\n"
          ]
        }
      ]
    },
    {
      "cell_type": "code",
      "metadata": {
        "colab": {
          "base_uri": "https://localhost:8080/"
        },
        "id": "S0lYqKA9szEV",
        "outputId": "f7d3901f-dd0f-4cb0-b7c7-ce4b8600591b"
      },
      "source": [
        "import sys\n",
        "sys.path.extend(['../input/effdet/',\n",
        "                 '../input/iterstrat/',\n",
        "                 '../input/weightedboxfusion/',\n",
        "                 '../input/efficientnet-pytorch/EfficientNet-PyTorch/EfficientNet-PyTorch-master/'])\n",
        "import pandas as pd\n",
        "import numpy as np\n",
        "import matplotlib.pyplot as plt\n",
        "import matplotlib.patches as patches\n",
        "import seaborn as sns\n",
        "from PIL import Image\n",
        "\n",
        "from pathlib import Path\n",
        "import os\n",
        "import logging\n",
        "from glob import glob\n",
        "\n",
        "import json\n",
        "import random \n",
        "import gc\n",
        "import warnings\n",
        "\n",
        "from tqdm.notebook import tqdm\n",
        "from joblib import Parallel, delayed\n",
        "import shutil as sh\n",
        "from itertools import product\n",
        "from collections import OrderedDict\n",
        "\n",
        "import plotly\n",
        "import plotly.express as px\n",
        "import plotly.graph_objects as go\n",
        "import plotly.offline as pyo\n",
        "from iterstrat.ml_stratifiers import MultilabelStratifiedKFold\n",
        "from ensemble_boxes import nms, weighted_boxes_fusion\n",
        "import torchvision.transforms as transforms\n",
        "import albumentations as al\n",
        "from albumentations import ImageOnlyTransform\n",
        "import albumentations.pytorch.transforms \n",
        "from albumentations.core.transforms_interface import DualTransform, ImageOnlyTransform\n",
        "\n",
        "import cv2\n",
        "import pydicom\n",
        "from IPython.display import display, Image\n",
        "from sklearn.model_selection import train_test_split, KFold, GroupKFold, StratifiedKFold\n",
        "import torch\n",
        "from torch.nn import functional as f\n",
        "import torch.nn as nn\n",
        "from torch.optim import Adam\n",
        "from torch.optim.lr_scheduler import StepLR, ReduceLROnPlateau, CosineAnnealingLR\n",
        "from torch.utils.data import Dataset, DataLoader, sampler\n",
        "import timm\n",
        "from efficientnet_pytorch import EfficientNet\n",
        "\n",
        "pd.options.display.max_columns = None\n",
        "warnings.filterwarnings('ignore')\n",
        "\n",
        "logging.basicConfig(format='%(asctime)s +++ %(message)s',\n",
        "                    datefmt='%d-%m-%y %H:%M:%S', level=logging.INFO)\n",
        "logger = logging.getLogger()\n",
        "\n",
        "device = torch.device('cuda' if torch.cuda.is_available() else 'cpu')\n",
        "logger.info(device)"
      ],
      "execution_count": 36,
      "outputs": [
        {
          "output_type": "stream",
          "name": "stderr",
          "text": [
            "24-09-21 13:09:45 +++ cuda\n"
          ]
        }
      ]
    },
    {
      "cell_type": "code",
      "metadata": {
        "id": "CNrXpVkPs9wl"
      },
      "source": [
        "os.environ[\"WANDB_API_KEY\"] = '8f435998b1a6f9a4e59bfaef1deed81c1362a97d'\n",
        "os.environ[\"WANDB_MODE\"] = \"dryrun\"\n",
        "\n",
        "MAIN_PATH = '../input/vinbigdata-chest-xray-abnormalities-detection/'\n",
        "CLASSIFIER_MAIN_PATH = '../input/efficientnet-pytorch/'\n",
        "RESIZE_1024_PATH = '../input/vinbigdata-chest-xray-resized-png-1024x1024/'\n",
        "RESIZE_512_PATH = '../input/vinbigdata/'\n",
        "TRAIN_PATH = os.path.join(MAIN_PATH, 'train.csv')\n",
        "SUB_PATH = os.path.join(MAIN_PATH, 'sample_submission.csv')\n",
        "TRAIN_DICOM_PATH = os.path.join(MAIN_PATH, 'train')\n",
        "TEST_DICOM_PATH = os.path.join(MAIN_PATH, 'test')\n",
        "TRAIN_1024_PATH = os.path.join(RESIZE_1024_PATH, 'train')\n",
        "TEST_1024_PATH = os.path.join(RESIZE_1024_PATH, 'test')\n",
        "TRAIN_512_PATH = os.path.join(RESIZE_512_PATH, 'train')\n",
        "TEST_512_PATH = os.path.join(RESIZE_512_PATH, 'test')\n",
        "TRAIN_META_PATH = os.path.join(RESIZE_1024_PATH, 'train_meta.csv')\n",
        "TEST_META_PATH = '../input/vinbigdata-testmeta/test_meta.csv'\n",
        "TEST_CLASS_PATH = '../input/vinbigdata-2class-prediction/2-cls test pred.csv'\n",
        "MODEL_WEIGHT = '../input/efficientdet/tf_efficientdet_d7_53-6d1d7a95.pth'\n",
        "SIZE = 512\n",
        "IMG_SIZE = (SIZE, SIZE)\n",
        "ACCULATION = 1\n",
        "MOSAIC_RATIO = 0.4"
      ],
      "execution_count": 37,
      "outputs": []
    },
    {
      "cell_type": "code",
      "metadata": {
        "id": "WuLq-K6iwRXg"
      },
      "source": [
        "class GlobalConfig:\n",
        "    model_use = 'd0'\n",
        "    model_weight = '../input/efficientdet/tf_efficientdet_d0_34-f153e0cf.pth'\n",
        "    img_size = IMG_SIZE\n",
        "    fold_num = 5\n",
        "    seed = 89\n",
        "    num_workers = 12\n",
        "    batch_size = 8\n",
        "    n_epochs = 20\n",
        "    lr = 1e-2\n",
        "    verbose = 1\n",
        "    verbose_step = 1\n",
        "    step_scheduler = False  # do scheduler.step after optimizer.step\n",
        "    validation_scheduler = True  # do scheduler.step after validation stage loss\n",
        "    SchedulerClass = torch.optim.lr_scheduler.ReduceLROnPlateau\n",
        "#     output_path = './save/'\n",
        "    scheduler_params = dict(\n",
        "        mode='min', \n",
        "        factor=0.2,\n",
        "        patience=1,\n",
        "        threshold_mode='abs',\n",
        "        min_lr=1e-7\n",
        "    )"
      ],
      "execution_count": 38,
      "outputs": []
    },
    {
      "cell_type": "code",
      "metadata": {
        "id": "xwIS0UfgwTq8"
      },
      "source": [
        "class PredictConfig:\n",
        "    img_size = IMG_SIZE\n",
        "    batch_size = 16\n",
        "    model_classifier_use = 'b0'\n",
        "    weight_classifier = '../input/effdet-d5-512/model_classifier_b0_512.pth'\n",
        "#     weight_classifier = '../input/x-chest-1024-classifier/model_classifier.pth'\n",
        "    score_thresh = 0.05\n",
        "    iou_thresh = 0.4\n",
        "    iou_thresh2 = 0.1\n",
        "    iou_thresh11 = 0.0001\n",
        "    skip_thresh = 0.0001\n",
        "    sigma = 0.1\n",
        "    score_0 = 0.385\n",
        "    score_3 = 0.4\n",
        "    score_last = 0.0\n",
        "    score_last2 = 0.95\n",
        "    score_9 = 0.1\n",
        "    score_11 = 0.015\n",
        "    classification_thresh = 0.003751"
      ],
      "execution_count": 39,
      "outputs": []
    },
    {
      "cell_type": "code",
      "metadata": {
        "id": "5HjUWhkIwV3c"
      },
      "source": [
        "list_remove = [34843, 21125, 647, 18011, 2539, 22373, 12675, 7359, 20642, 5502, 19818, 5832, 28056, 28333, 20758,\n",
        "               925, 43, 2199, 4610, 21306, 16677, 1768, 17232, 1378, 24949, 30203, 31410, 87, 25318, 92, 31724,\n",
        "               118, 17687, 12605, 26157, 33875, 7000, 3730, 18776, 13225, 1109, 2161, 33627, 15500, 28633, 28152,\n",
        "               10114, 10912, 9014,  4427, 25630, 11464, 6419, 22164, 4386, 17557, 15264, 21853, 33142, 32895, 9733,\n",
        "               33010, 17493, 32128, 28802, 11658, 8841, 29557, 4802, 8591, 778, 9935, 12359, 5210, 7556, 24505, 5664,\n",
        "               28670, 27820, 19359, 9817, 7800, 32934, 34098, 27931, 16074, 27308, 30645, 31029, 35697, 6199, 27065,\n",
        "               1771, 14689, 31860, 1975, 29294, 2304, 34018, 23406, 26501, 26011, 2479, 32796, 25836, 3032, 31454,\n",
        "               32066, 19722, 15997, 6049, 9458, 11005, 23151, 24503, 35411, 18092, 23815, 30742, 33942, 34542, 7655,\n",
        "               25345, 3750, 17046, 3844, 5958, 4250, 18823, 14898, 22581, 25805, 9651, 33194, 36007, 30160, 24459,\n",
        "               10838, 16544, 31252, 8053, 28487, 6208, 25244, 8470, 10089, 24813, 14769, 34305, 34047, 23366, 8049,\n",
        "               13276, 22380, 32797, 32440, 11031, 18304, 33692, 21349, 26333, 34331, 9110, 21092, 34882, 35626, 10203,\n",
        "               25648, 30754, 29567, 33542, 15146, 26759, 20846, 22493, 33187, 22813, 30219, 14548, 14627, 20494, 28332,\n",
        "               15930, 31347, 33489, 35005, 34032, 24183, 18643, 18536, 29754, 20380, 29750, 20539, 35791, 27275, 32248]\n",
        "image_remove = ['9c83d9f88170cd38f7bca54fe27dc48a', 'ac2a615b3861212f9a2ada6acd077fd9',\n",
        "                'f9f7feefb4bac748ff7ad313e4a78906', 'f89143595274fa6016f6eec550442af9',\n",
        "                '6c08a98e48ba72aee1b7b62e1f28e6da', 'e7a58f5647d24fc877f9cb3d051792e2',\n",
        "                '8f98e3e6e86e573a6bd32403086b3707', '43d3137e74ebd344636228e786cb91b0',\n",
        "                '575b98a9f9824d519937a776bd819cc4', 'ca6c1531a83f8ee89916ed934f8d4847',\n",
        "                '0c6a7e3c733bd4f4d89443ca16615fc6', 'ae5cec1517ab3e82c5374e4c6219a17d',\n",
        "                '064023f1ff95962a1eee46b9f05f7309', '27c831fee072b232499541b0aca58d9c',\n",
        "                '0b98b21145a9425bf3eeea4b0de425e7', '7df5c81873c74ecc40610a1ad4eb2943']"
      ],
      "execution_count": 40,
      "outputs": []
    },
    {
      "cell_type": "markdown",
      "metadata": {
        "id": "lq5YO0G2wZvi"
      },
      "source": [
        "##Function"
      ]
    },
    {
      "cell_type": "code",
      "metadata": {
        "id": "aYX116GSwYkc"
      },
      "source": [
        "class BaseWheatTTA:\n",
        "    \"\"\" author: @shonenkov \"\"\"\n",
        "    image_size = IMG_SIZE\n",
        "\n",
        "    def augment(self, image):\n",
        "        raise NotImplementedError\n",
        "    \n",
        "    def batch_augment(self, images):\n",
        "        raise NotImplementedError\n",
        "    \n",
        "    def deaugment_boxes(self, boxes):\n",
        "        raise NotImplementedError\n",
        "\n",
        "class TTAHorizontalFlip(BaseWheatTTA):\n",
        "    \"\"\" author: @shonenkov \"\"\"\n",
        "\n",
        "    def augment(self, image):\n",
        "        return image.flip(1)\n",
        "    \n",
        "    def batch_augment(self, images):\n",
        "        return images.flip(2)\n",
        "    \n",
        "    def deaugment_boxes(self, boxes):\n",
        "        boxes[:, [1,3]] = self.image_size - boxes[:, [3,1]]"
      ],
      "execution_count": 41,
      "outputs": []
    },
    {
      "cell_type": "code",
      "metadata": {
        "id": "AgDw-KbIwfsc"
      },
      "source": [
        "class TTAVerticalFlip(BaseWheatTTA):\n",
        "    \"\"\" author: @shonenkov \"\"\"\n",
        "    \n",
        "    def augment(self, image):\n",
        "        return image.flip(2)\n",
        "    \n",
        "    def batch_augment(self, images):\n",
        "        return images.flip(3)\n",
        "    \n",
        "    def deaugment_boxes(self, boxes):\n",
        "        boxes[:, [0,2]] = self.image_size - boxes[:, [2,0]]\n",
        "        return boxes\n",
        "    \n",
        "class TTARotate90(BaseWheatTTA):\n",
        "    \"\"\" author: @shonenkov \"\"\"\n",
        "    \n",
        "    def augment(self, image):\n",
        "        return torch.rot90(image, 1, (1, 2))\n",
        "\n",
        "    def batch_augment(self, images):\n",
        "        return torch.rot90(images, 1, (2, 3))\n",
        "    \n",
        "    def deaugment_boxes(self, boxes):\n",
        "        res_boxes = boxes.copy()\n",
        "        res_boxes[:, [0,2]] = self.image_size - boxes[:, [1,3]]\n",
        "        res_boxes[:, [1,3]] = boxes[:, [2,0]]\n",
        "        return res_boxes\n",
        "\n",
        "class TTACompose(BaseWheatTTA):\n",
        "    \"\"\" author: @shonenkov \"\"\"\n",
        "    def __init__(self, transforms):\n",
        "        self.transforms = transforms\n",
        "        \n",
        "    def augment(self, image):\n",
        "        for transform in self.transforms:\n",
        "            image = transform.augment(image)\n",
        "        return image\n",
        "    \n",
        "    def batch_augment(self, images):\n",
        "        for transform in self.transforms:\n",
        "            images = transform.batch_augment(images)\n",
        "        return images\n",
        "    \n",
        "    def prepare_boxes(self, boxes):\n",
        "        result_boxes = boxes.copy()\n",
        "        result_boxes[:,0] = np.min(boxes[:, [0,2]], axis=1)\n",
        "        result_boxes[:,2] = np.max(boxes[:, [0,2]], axis=1)\n",
        "        result_boxes[:,1] = np.min(boxes[:, [1,3]], axis=1)\n",
        "        result_boxes[:,3] = np.max(boxes[:, [1,3]], axis=1)\n",
        "        return result_boxes\n",
        "    \n",
        "    def deaugment_boxes(self, boxes):\n",
        "        for transform in self.transforms[::-1]:\n",
        "            boxes = transform.deaugment_boxes(boxes)\n",
        "        return self.prepare_boxes(boxes)\n",
        "    \n",
        "def Visualize_class(df, feature, title):\n",
        "    num_image = df[feature].value_counts().rename_axis(feature).reset_index(name='num_image')\n",
        "    fig = px.bar(num_image[::-1], x='num_image', y=feature, orientation='h', color='num_image')\n",
        "    fig.update_layout(\n",
        "    title={\n",
        "        'text': title,\n",
        "        'y':0.95,\n",
        "        'x':0.5,\n",
        "        'xanchor': 'center',\n",
        "        'yanchor': 'top'})\n",
        "    fig.show()\n",
        "    \n",
        "    \n",
        "def img_size(path):\n",
        "    information = pydicom.dcmread(path)\n",
        "    h, w = information.Rows, information.Columns\n",
        "    return (h, w)\n",
        "\n",
        "\n",
        "def label_resize(org_size, img_size, *bbox):\n",
        "    x0, y0, x1, y1 = bbox\n",
        "    x0_new = int(np.round(x0*img_size[1]/org_size[1]))\n",
        "    y0_new = int(np.round(y0*img_size[0]/org_size[0]))\n",
        "    x1_new = int(np.round(x1*img_size[1]/org_size[1]))\n",
        "    y1_new = int(np.round(y1*img_size[0]/org_size[0]))\n",
        "    return x0_new, y0_new, x1_new, y1_new\n",
        "\n",
        "\n",
        "def list_color(class_list):\n",
        "    dict_color = dict()\n",
        "    for classid in class_list:\n",
        "        dict_color[classid] = [i/256 for i in random.sample(range(256), 3)]\n",
        "    \n",
        "    return dict_color\n",
        "\n",
        "\n",
        "def split_df(df):\n",
        "    kf = MultilabelStratifiedKFold(n_splits=GlobalConfig.fold_num,\n",
        "                                   shuffle=True, random_state=GlobalConfig.seed)\n",
        "    df['id'] = df.index\n",
        "    annot_pivot = pd.pivot_table(df, index='image_id', columns='class_id',\n",
        "                                 values='id', fill_value=0, aggfunc='count') \\\n",
        "    .reset_index().rename_axis(None, axis=1)\n",
        "    for fold, (train_idx, val_idx) in enumerate(kf.split(annot_pivot,\n",
        "                                                         annot_pivot.iloc[:, 1:train_abnormal['class_id'].nunique()])):\n",
        "        annot_pivot[f'fold_{fold}'] = 0\n",
        "        annot_pivot.loc[val_idx, f'fold_{fold}'] = 1\n",
        "    return annot_pivot\n",
        "    \n",
        "    \n",
        "def display_image(df, list_image, num_image=1, is_dicom_file=True):\n",
        "    \n",
        "    dict_color = list_color(range(15))\n",
        "    list_abnormal = [i for i in df['class_name'].unique() if i!='No finding']\n",
        "    for abnormal in list_abnormal:\n",
        "        abnormal_df = df[df['class_name']==abnormal].reset_index(drop=True)\n",
        "        abnormal_random = np.random.choice(abnormal_df['image_id'].unique(), num_image)\n",
        "        for abnormal_img in abnormal_random:\n",
        "            images = abnormal_df[abnormal_df['image_id']==abnormal_img].reset_index(drop=True)\n",
        "            fig, ax = plt.subplots(1, figsize=(15, 15))\n",
        "            img_path = [i for i in list_image if abnormal_img in i][0]\n",
        "            if is_dicom_file:\n",
        "                information = pydicom.dcmread(img_path)\n",
        "                img = information.pixel_array\n",
        "            else:\n",
        "                img = cv2.imread(img_path)\n",
        "            ax.imshow(img, plt.cm.bone)\n",
        "            for idx, image in images.iterrows():\n",
        "                bbox = [image.x_min, image.y_min, image.x_max, image.y_max]\n",
        "                if is_dicom_file:\n",
        "                    x_min, y_min, x_max, y_max = bbox\n",
        "                else:\n",
        "                    org_size = image[['h', 'w']].values\n",
        "                    x_min, y_min, x_max, y_max = label_resize(org_size, IMG_SIZE, *bbox)\n",
        "                class_name, class_id = image.class_name, image.class_id\n",
        "                rect = patches.Rectangle((x_min, y_min), x_max-x_min, y_max-y_min,\n",
        "                                         linewidth=1, edgecolor=dict_color[class_id], facecolor='none')\n",
        "                ax.add_patch(rect)\n",
        "                plt.text(x_min, y_min, class_name, fontsize=15, color='red')\n",
        "\n",
        "            plt.title(abnormal_img) \n",
        "            plt.show()\n",
        "            \n",
        "def display_image_test(df, size_df, list_image, num_image=3):\n",
        "    \n",
        "    dict_color = list_color(range(15))\n",
        "    image_row_random = np.random.choice(len(df), num_image, replace=(len(df)<num_image))\n",
        "    for image_idx in image_row_random:\n",
        "        image_id, pred = df.loc[image_idx, 'image_id'], df.loc[image_idx, 'PredictionString']\n",
        "        org_size = size_df[size_df['image_id']==image_id][['h', 'w']].values[0].tolist()\n",
        "        fig, ax = plt.subplots(1, figsize=(15, 15))\n",
        "        img_path = [i for i in list_image if image_id in i][0]\n",
        "        img = cv2.imread(img_path)\n",
        "        ax.imshow(img, plt.cm.bone)\n",
        "        if pred != '14 1 0 0 1 1':\n",
        "            list_pred = pred.split(' ')\n",
        "            for box_idx in range(len(list_pred)//6):\n",
        "                bbox = map(int, list_pred[6*box_idx+2:6*box_idx+6])\n",
        "                x_min, y_min, x_max, y_max = label_resize(org_size, IMG_SIZE, *bbox)\n",
        "                class_name, score = int(list_pred[6*box_idx]), float(list_pred[6*box_idx+1])\n",
        "                rect = patches.Rectangle((x_min, y_min), x_max-x_min, y_max-y_min,\n",
        "                                         linewidth=1, edgecolor=dict_color[class_name], facecolor='none')\n",
        "                ax.add_patch(rect)\n",
        "                plt.text(x_min, y_min, f'{class_name}: {score}', fontsize=15, color='red')            \n",
        "\n",
        "        plt.title(image_id) \n",
        "        plt.show()\n",
        "        \n",
        "def ensemble_multibox(boxes, scores, labels, iou_thr, sigma,\n",
        "                      skip_box_thr, weights=None, method='wbf'):\n",
        "    if method=='nms':\n",
        "        boxes, scores, labels = nms(boxes, scores, labels,\n",
        "                                    weights=weights,\n",
        "                                    iou_thr=iou_thr)\n",
        "    elif method=='soft_nms':\n",
        "        boxes, scores, labels = soft_nms(boxes, scores, labels,\n",
        "                                         weights=weights,\n",
        "                                         sigma=sigma,\n",
        "                                         iou_thr=iou_thr,\n",
        "                                         thresh=skip_box_thr)\n",
        "    elif method=='nms_weight':\n",
        "        boxes, scores, labels = non_maximum_weighted(boxes, scores, labels,\n",
        "                                                     weights=weights,\n",
        "                                                     iou_thr=iou_thr,\n",
        "                                                     skip_box_thr=skip_box_thr)\n",
        "    elif method=='wbf':\n",
        "        boxes, scores, labels = weighted_boxes_fusion(boxes, scores, labels,\n",
        "                                                      weights=weights,\n",
        "                                                      iou_thr=iou_thr,\n",
        "                                                      skip_box_thr=skip_box_thr)\n",
        "    \n",
        "    return boxes, scores, labels"
      ],
      "execution_count": 42,
      "outputs": []
    },
    {
      "cell_type": "code",
      "metadata": {
        "colab": {
          "base_uri": "https://localhost:8080/"
        },
        "id": "opq0cTabwlls",
        "outputId": "38ba71c7-a575-4a81-bdd0-fc8c4168f59e"
      },
      "source": [
        "%%time \n",
        "train_df = pd.read_csv('/content/drive/MyDrive/CV02_Chest_X-RAY/vinbigdata/train.csv')\n",
        "train_df[['x_min', 'y_min']] = train_df[['x_min', 'y_min']].fillna(0)\n",
        "train_df[['x_max', 'y_max']] = train_df[['x_max', 'y_max']].fillna(1)\n",
        "train_df[['h', 'w']] = train_df[['height', 'width']]\n",
        "train_df.pop('width')\n",
        "train_df.pop('height')"
      ],
      "execution_count": 54,
      "outputs": [
        {
          "output_type": "stream",
          "name": "stdout",
          "text": [
            "CPU times: user 80.5 ms, sys: 7.57 ms, total: 88.1 ms\n",
            "Wall time: 91.2 ms\n"
          ]
        }
      ]
    },
    {
      "cell_type": "code",
      "metadata": {
        "colab": {
          "base_uri": "https://localhost:8080/",
          "height": 204
        },
        "id": "TWGzkpCpxEnd",
        "outputId": "d9ffb2c3-e12b-4668-d352-1ec821604e59"
      },
      "source": [
        "train_df.tail()"
      ],
      "execution_count": 55,
      "outputs": [
        {
          "output_type": "execute_result",
          "data": {
            "text/html": [
              "<div>\n",
              "<style scoped>\n",
              "    .dataframe tbody tr th:only-of-type {\n",
              "        vertical-align: middle;\n",
              "    }\n",
              "\n",
              "    .dataframe tbody tr th {\n",
              "        vertical-align: top;\n",
              "    }\n",
              "\n",
              "    .dataframe thead th {\n",
              "        text-align: right;\n",
              "    }\n",
              "</style>\n",
              "<table border=\"1\" class=\"dataframe\">\n",
              "  <thead>\n",
              "    <tr style=\"text-align: right;\">\n",
              "      <th></th>\n",
              "      <th>image_id</th>\n",
              "      <th>class_name</th>\n",
              "      <th>class_id</th>\n",
              "      <th>rad_id</th>\n",
              "      <th>x_min</th>\n",
              "      <th>y_min</th>\n",
              "      <th>x_max</th>\n",
              "      <th>y_max</th>\n",
              "      <th>h</th>\n",
              "      <th>w</th>\n",
              "    </tr>\n",
              "  </thead>\n",
              "  <tbody>\n",
              "    <tr>\n",
              "      <th>67909</th>\n",
              "      <td>936fd5cff1c058d39817a08f58b72cae</td>\n",
              "      <td>No finding</td>\n",
              "      <td>14</td>\n",
              "      <td>R1</td>\n",
              "      <td>0.0</td>\n",
              "      <td>0.0</td>\n",
              "      <td>1.0</td>\n",
              "      <td>1.0</td>\n",
              "      <td>3200</td>\n",
              "      <td>2444</td>\n",
              "    </tr>\n",
              "    <tr>\n",
              "      <th>67910</th>\n",
              "      <td>ca7e72954550eeb610fe22bf0244b7fa</td>\n",
              "      <td>No finding</td>\n",
              "      <td>14</td>\n",
              "      <td>R1</td>\n",
              "      <td>0.0</td>\n",
              "      <td>0.0</td>\n",
              "      <td>1.0</td>\n",
              "      <td>1.0</td>\n",
              "      <td>2430</td>\n",
              "      <td>1994</td>\n",
              "    </tr>\n",
              "    <tr>\n",
              "      <th>67911</th>\n",
              "      <td>aa17d5312a0fb4a2939436abca7f9579</td>\n",
              "      <td>No finding</td>\n",
              "      <td>14</td>\n",
              "      <td>R8</td>\n",
              "      <td>0.0</td>\n",
              "      <td>0.0</td>\n",
              "      <td>1.0</td>\n",
              "      <td>1.0</td>\n",
              "      <td>2500</td>\n",
              "      <td>2048</td>\n",
              "    </tr>\n",
              "    <tr>\n",
              "      <th>67912</th>\n",
              "      <td>4b56bc6d22b192f075f13231419dfcc8</td>\n",
              "      <td>Cardiomegaly</td>\n",
              "      <td>3</td>\n",
              "      <td>R8</td>\n",
              "      <td>771.0</td>\n",
              "      <td>979.0</td>\n",
              "      <td>1680.0</td>\n",
              "      <td>1311.0</td>\n",
              "      <td>2040</td>\n",
              "      <td>1968</td>\n",
              "    </tr>\n",
              "    <tr>\n",
              "      <th>67913</th>\n",
              "      <td>5e272e3adbdaafb07a7e84a9e62b1a4c</td>\n",
              "      <td>No finding</td>\n",
              "      <td>14</td>\n",
              "      <td>R16</td>\n",
              "      <td>0.0</td>\n",
              "      <td>0.0</td>\n",
              "      <td>1.0</td>\n",
              "      <td>1.0</td>\n",
              "      <td>2500</td>\n",
              "      <td>2048</td>\n",
              "    </tr>\n",
              "  </tbody>\n",
              "</table>\n",
              "</div>"
            ],
            "text/plain": [
              "                               image_id    class_name  class_id rad_id  x_min  \\\n",
              "67909  936fd5cff1c058d39817a08f58b72cae    No finding        14     R1    0.0   \n",
              "67910  ca7e72954550eeb610fe22bf0244b7fa    No finding        14     R1    0.0   \n",
              "67911  aa17d5312a0fb4a2939436abca7f9579    No finding        14     R8    0.0   \n",
              "67912  4b56bc6d22b192f075f13231419dfcc8  Cardiomegaly         3     R8  771.0   \n",
              "67913  5e272e3adbdaafb07a7e84a9e62b1a4c    No finding        14    R16    0.0   \n",
              "\n",
              "       y_min   x_max   y_max     h     w  \n",
              "67909    0.0     1.0     1.0  3200  2444  \n",
              "67910    0.0     1.0     1.0  2430  1994  \n",
              "67911    0.0     1.0     1.0  2500  2048  \n",
              "67912  979.0  1680.0  1311.0  2040  1968  \n",
              "67913    0.0     1.0     1.0  2500  2048  "
            ]
          },
          "metadata": {},
          "execution_count": 55
        }
      ]
    },
    {
      "cell_type": "markdown",
      "metadata": {
        "id": "Gi2422IOyb4r"
      },
      "source": [
        "#Analyze train dataset"
      ]
    },
    {
      "cell_type": "code",
      "metadata": {
        "colab": {
          "base_uri": "https://localhost:8080/",
          "height": 560
        },
        "id": "SRDMxvxPyZF_",
        "outputId": "2519cdfb-91be-483d-dcf9-90f52d7f3deb"
      },
      "source": [
        "Visualize_class(train_df, feature='class_name', title='Types of thoracic abnormalities')\n",
        "logger.info(f\"Train have {train_df['class_name'].nunique()-1} types of thoracic abnormalities\")"
      ],
      "execution_count": 57,
      "outputs": [
        {
          "output_type": "display_data",
          "data": {
            "text/html": [
              "<html>\n",
              "<head><meta charset=\"utf-8\" /></head>\n",
              "<body>\n",
              "    <div>\n",
              "            <script src=\"https://cdnjs.cloudflare.com/ajax/libs/mathjax/2.7.5/MathJax.js?config=TeX-AMS-MML_SVG\"></script><script type=\"text/javascript\">if (window.MathJax) {MathJax.Hub.Config({SVG: {font: \"STIX-Web\"}});}</script>\n",
              "                <script type=\"text/javascript\">window.PlotlyConfig = {MathJaxConfig: 'local'};</script>\n",
              "        <script src=\"https://cdn.plot.ly/plotly-latest.min.js\"></script>    \n",
              "            <div id=\"f022541e-f8b2-4bf5-95c0-91595cc4102f\" class=\"plotly-graph-div\" style=\"height:525px; width:100%;\"></div>\n",
              "            <script type=\"text/javascript\">\n",
              "                \n",
              "                    window.PLOTLYENV=window.PLOTLYENV || {};\n",
              "                    \n",
              "                if (document.getElementById(\"f022541e-f8b2-4bf5-95c0-91595cc4102f\")) {\n",
              "                    Plotly.newPlot(\n",
              "                        'f022541e-f8b2-4bf5-95c0-91595cc4102f',\n",
              "                        [{\"alignmentgroup\": \"True\", \"hoverlabel\": {\"namelength\": 0}, \"hovertemplate\": \"num_image=%{marker.color}<br>class_name=%{y}\", \"legendgroup\": \"\", \"marker\": {\"color\": [226, 279, 556, 960, 1000, 1247, 2203, 2476, 2483, 2580, 4655, 4842, 5427, 7162, 31818], \"coloraxis\": \"coloraxis\"}, \"name\": \"\", \"offsetgroup\": \"\", \"orientation\": \"h\", \"showlegend\": false, \"textposition\": \"auto\", \"type\": \"bar\", \"x\": [226, 279, 556, 960, 1000, 1247, 2203, 2476, 2483, 2580, 4655, 4842, 5427, 7162, 31818], \"xaxis\": \"x\", \"y\": [\"Pneumothorax\", \"Atelectasis\", \"Consolidation\", \"Calcification\", \"ILD\", \"Infiltration\", \"Other lesion\", \"Pleural effusion\", \"Lung Opacity\", \"Nodule/Mass\", \"Pulmonary fibrosis\", \"Pleural thickening\", \"Cardiomegaly\", \"Aortic enlargement\", \"No finding\"], \"yaxis\": \"y\"}],\n",
              "                        {\"barmode\": \"relative\", \"coloraxis\": {\"colorbar\": {\"title\": {\"text\": \"num_image\"}}, \"colorscale\": [[0.0, \"#0d0887\"], [0.1111111111111111, \"#46039f\"], [0.2222222222222222, \"#7201a8\"], [0.3333333333333333, \"#9c179e\"], [0.4444444444444444, \"#bd3786\"], [0.5555555555555556, \"#d8576b\"], [0.6666666666666666, \"#ed7953\"], [0.7777777777777778, \"#fb9f3a\"], [0.8888888888888888, \"#fdca26\"], [1.0, \"#f0f921\"]]}, \"legend\": {\"tracegroupgap\": 0}, \"margin\": {\"t\": 60}, \"template\": {\"data\": {\"bar\": [{\"error_x\": {\"color\": \"#2a3f5f\"}, \"error_y\": {\"color\": \"#2a3f5f\"}, \"marker\": {\"line\": {\"color\": \"#E5ECF6\", \"width\": 0.5}}, \"type\": \"bar\"}], \"barpolar\": [{\"marker\": {\"line\": {\"color\": \"#E5ECF6\", \"width\": 0.5}}, \"type\": \"barpolar\"}], \"carpet\": [{\"aaxis\": {\"endlinecolor\": \"#2a3f5f\", \"gridcolor\": \"white\", \"linecolor\": \"white\", \"minorgridcolor\": \"white\", \"startlinecolor\": \"#2a3f5f\"}, \"baxis\": {\"endlinecolor\": \"#2a3f5f\", \"gridcolor\": \"white\", \"linecolor\": \"white\", \"minorgridcolor\": \"white\", \"startlinecolor\": \"#2a3f5f\"}, \"type\": \"carpet\"}], \"choropleth\": [{\"colorbar\": {\"outlinewidth\": 0, \"ticks\": \"\"}, \"type\": \"choropleth\"}], \"contour\": [{\"colorbar\": {\"outlinewidth\": 0, \"ticks\": \"\"}, \"colorscale\": [[0.0, \"#0d0887\"], [0.1111111111111111, \"#46039f\"], [0.2222222222222222, \"#7201a8\"], [0.3333333333333333, \"#9c179e\"], [0.4444444444444444, \"#bd3786\"], [0.5555555555555556, \"#d8576b\"], [0.6666666666666666, \"#ed7953\"], [0.7777777777777778, \"#fb9f3a\"], [0.8888888888888888, \"#fdca26\"], [1.0, \"#f0f921\"]], \"type\": \"contour\"}], \"contourcarpet\": [{\"colorbar\": {\"outlinewidth\": 0, \"ticks\": \"\"}, \"type\": \"contourcarpet\"}], \"heatmap\": [{\"colorbar\": {\"outlinewidth\": 0, \"ticks\": \"\"}, \"colorscale\": [[0.0, \"#0d0887\"], [0.1111111111111111, \"#46039f\"], [0.2222222222222222, \"#7201a8\"], [0.3333333333333333, \"#9c179e\"], [0.4444444444444444, \"#bd3786\"], [0.5555555555555556, \"#d8576b\"], [0.6666666666666666, \"#ed7953\"], [0.7777777777777778, \"#fb9f3a\"], [0.8888888888888888, \"#fdca26\"], [1.0, \"#f0f921\"]], \"type\": \"heatmap\"}], \"heatmapgl\": [{\"colorbar\": {\"outlinewidth\": 0, \"ticks\": \"\"}, \"colorscale\": [[0.0, \"#0d0887\"], [0.1111111111111111, \"#46039f\"], [0.2222222222222222, \"#7201a8\"], [0.3333333333333333, \"#9c179e\"], [0.4444444444444444, \"#bd3786\"], [0.5555555555555556, \"#d8576b\"], [0.6666666666666666, \"#ed7953\"], [0.7777777777777778, \"#fb9f3a\"], [0.8888888888888888, \"#fdca26\"], [1.0, \"#f0f921\"]], \"type\": \"heatmapgl\"}], \"histogram\": [{\"marker\": {\"colorbar\": {\"outlinewidth\": 0, \"ticks\": \"\"}}, \"type\": \"histogram\"}], \"histogram2d\": [{\"colorbar\": {\"outlinewidth\": 0, \"ticks\": \"\"}, \"colorscale\": [[0.0, \"#0d0887\"], [0.1111111111111111, \"#46039f\"], [0.2222222222222222, \"#7201a8\"], [0.3333333333333333, \"#9c179e\"], [0.4444444444444444, \"#bd3786\"], [0.5555555555555556, \"#d8576b\"], [0.6666666666666666, \"#ed7953\"], [0.7777777777777778, \"#fb9f3a\"], [0.8888888888888888, \"#fdca26\"], [1.0, \"#f0f921\"]], \"type\": \"histogram2d\"}], \"histogram2dcontour\": [{\"colorbar\": {\"outlinewidth\": 0, \"ticks\": \"\"}, \"colorscale\": [[0.0, \"#0d0887\"], [0.1111111111111111, \"#46039f\"], [0.2222222222222222, \"#7201a8\"], [0.3333333333333333, \"#9c179e\"], [0.4444444444444444, \"#bd3786\"], [0.5555555555555556, \"#d8576b\"], [0.6666666666666666, \"#ed7953\"], [0.7777777777777778, \"#fb9f3a\"], [0.8888888888888888, \"#fdca26\"], [1.0, \"#f0f921\"]], \"type\": \"histogram2dcontour\"}], \"mesh3d\": [{\"colorbar\": {\"outlinewidth\": 0, \"ticks\": \"\"}, \"type\": \"mesh3d\"}], \"parcoords\": [{\"line\": {\"colorbar\": {\"outlinewidth\": 0, \"ticks\": \"\"}}, \"type\": \"parcoords\"}], \"pie\": [{\"automargin\": true, \"type\": \"pie\"}], \"scatter\": [{\"marker\": {\"colorbar\": {\"outlinewidth\": 0, \"ticks\": \"\"}}, \"type\": \"scatter\"}], \"scatter3d\": [{\"line\": {\"colorbar\": {\"outlinewidth\": 0, \"ticks\": \"\"}}, \"marker\": {\"colorbar\": {\"outlinewidth\": 0, \"ticks\": \"\"}}, \"type\": \"scatter3d\"}], \"scattercarpet\": [{\"marker\": {\"colorbar\": {\"outlinewidth\": 0, \"ticks\": \"\"}}, \"type\": \"scattercarpet\"}], \"scattergeo\": [{\"marker\": {\"colorbar\": {\"outlinewidth\": 0, \"ticks\": \"\"}}, \"type\": \"scattergeo\"}], \"scattergl\": [{\"marker\": {\"colorbar\": {\"outlinewidth\": 0, \"ticks\": \"\"}}, \"type\": \"scattergl\"}], \"scattermapbox\": [{\"marker\": {\"colorbar\": {\"outlinewidth\": 0, \"ticks\": \"\"}}, \"type\": \"scattermapbox\"}], \"scatterpolar\": [{\"marker\": {\"colorbar\": {\"outlinewidth\": 0, \"ticks\": \"\"}}, \"type\": \"scatterpolar\"}], \"scatterpolargl\": [{\"marker\": {\"colorbar\": {\"outlinewidth\": 0, \"ticks\": \"\"}}, \"type\": \"scatterpolargl\"}], \"scatterternary\": [{\"marker\": {\"colorbar\": {\"outlinewidth\": 0, \"ticks\": \"\"}}, \"type\": \"scatterternary\"}], \"surface\": [{\"colorbar\": {\"outlinewidth\": 0, \"ticks\": \"\"}, \"colorscale\": [[0.0, \"#0d0887\"], [0.1111111111111111, \"#46039f\"], [0.2222222222222222, \"#7201a8\"], [0.3333333333333333, \"#9c179e\"], [0.4444444444444444, \"#bd3786\"], [0.5555555555555556, \"#d8576b\"], [0.6666666666666666, \"#ed7953\"], [0.7777777777777778, \"#fb9f3a\"], [0.8888888888888888, \"#fdca26\"], [1.0, \"#f0f921\"]], \"type\": \"surface\"}], \"table\": [{\"cells\": {\"fill\": {\"color\": \"#EBF0F8\"}, \"line\": {\"color\": \"white\"}}, \"header\": {\"fill\": {\"color\": \"#C8D4E3\"}, \"line\": {\"color\": \"white\"}}, \"type\": \"table\"}]}, \"layout\": {\"annotationdefaults\": {\"arrowcolor\": \"#2a3f5f\", \"arrowhead\": 0, \"arrowwidth\": 1}, \"coloraxis\": {\"colorbar\": {\"outlinewidth\": 0, \"ticks\": \"\"}}, \"colorscale\": {\"diverging\": [[0, \"#8e0152\"], [0.1, \"#c51b7d\"], [0.2, \"#de77ae\"], [0.3, \"#f1b6da\"], [0.4, \"#fde0ef\"], [0.5, \"#f7f7f7\"], [0.6, \"#e6f5d0\"], [0.7, \"#b8e186\"], [0.8, \"#7fbc41\"], [0.9, \"#4d9221\"], [1, \"#276419\"]], \"sequential\": [[0.0, \"#0d0887\"], [0.1111111111111111, \"#46039f\"], [0.2222222222222222, \"#7201a8\"], [0.3333333333333333, \"#9c179e\"], [0.4444444444444444, \"#bd3786\"], [0.5555555555555556, \"#d8576b\"], [0.6666666666666666, \"#ed7953\"], [0.7777777777777778, \"#fb9f3a\"], [0.8888888888888888, \"#fdca26\"], [1.0, \"#f0f921\"]], \"sequentialminus\": [[0.0, \"#0d0887\"], [0.1111111111111111, \"#46039f\"], [0.2222222222222222, \"#7201a8\"], [0.3333333333333333, \"#9c179e\"], [0.4444444444444444, \"#bd3786\"], [0.5555555555555556, \"#d8576b\"], [0.6666666666666666, \"#ed7953\"], [0.7777777777777778, \"#fb9f3a\"], [0.8888888888888888, \"#fdca26\"], [1.0, \"#f0f921\"]]}, \"colorway\": [\"#636efa\", \"#EF553B\", \"#00cc96\", \"#ab63fa\", \"#FFA15A\", \"#19d3f3\", \"#FF6692\", \"#B6E880\", \"#FF97FF\", \"#FECB52\"], \"font\": {\"color\": \"#2a3f5f\"}, \"geo\": {\"bgcolor\": \"white\", \"lakecolor\": \"white\", \"landcolor\": \"#E5ECF6\", \"showlakes\": true, \"showland\": true, \"subunitcolor\": \"white\"}, \"hoverlabel\": {\"align\": \"left\"}, \"hovermode\": \"closest\", \"mapbox\": {\"style\": \"light\"}, \"paper_bgcolor\": \"white\", \"plot_bgcolor\": \"#E5ECF6\", \"polar\": {\"angularaxis\": {\"gridcolor\": \"white\", \"linecolor\": \"white\", \"ticks\": \"\"}, \"bgcolor\": \"#E5ECF6\", \"radialaxis\": {\"gridcolor\": \"white\", \"linecolor\": \"white\", \"ticks\": \"\"}}, \"scene\": {\"xaxis\": {\"backgroundcolor\": \"#E5ECF6\", \"gridcolor\": \"white\", \"gridwidth\": 2, \"linecolor\": \"white\", \"showbackground\": true, \"ticks\": \"\", \"zerolinecolor\": \"white\"}, \"yaxis\": {\"backgroundcolor\": \"#E5ECF6\", \"gridcolor\": \"white\", \"gridwidth\": 2, \"linecolor\": \"white\", \"showbackground\": true, \"ticks\": \"\", \"zerolinecolor\": \"white\"}, \"zaxis\": {\"backgroundcolor\": \"#E5ECF6\", \"gridcolor\": \"white\", \"gridwidth\": 2, \"linecolor\": \"white\", \"showbackground\": true, \"ticks\": \"\", \"zerolinecolor\": \"white\"}}, \"shapedefaults\": {\"line\": {\"color\": \"#2a3f5f\"}}, \"ternary\": {\"aaxis\": {\"gridcolor\": \"white\", \"linecolor\": \"white\", \"ticks\": \"\"}, \"baxis\": {\"gridcolor\": \"white\", \"linecolor\": \"white\", \"ticks\": \"\"}, \"bgcolor\": \"#E5ECF6\", \"caxis\": {\"gridcolor\": \"white\", \"linecolor\": \"white\", \"ticks\": \"\"}}, \"title\": {\"x\": 0.05}, \"xaxis\": {\"automargin\": true, \"gridcolor\": \"white\", \"linecolor\": \"white\", \"ticks\": \"\", \"title\": {\"standoff\": 15}, \"zerolinecolor\": \"white\", \"zerolinewidth\": 2}, \"yaxis\": {\"automargin\": true, \"gridcolor\": \"white\", \"linecolor\": \"white\", \"ticks\": \"\", \"title\": {\"standoff\": 15}, \"zerolinecolor\": \"white\", \"zerolinewidth\": 2}}}, \"title\": {\"text\": \"Types of thoracic abnormalities\", \"x\": 0.5, \"xanchor\": \"center\", \"y\": 0.95, \"yanchor\": \"top\"}, \"xaxis\": {\"anchor\": \"y\", \"domain\": [0.0, 1.0], \"title\": {\"text\": \"num_image\"}}, \"yaxis\": {\"anchor\": \"x\", \"domain\": [0.0, 1.0], \"title\": {\"text\": \"class_name\"}}},\n",
              "                        {\"responsive\": true}\n",
              "                    ).then(function(){\n",
              "                            \n",
              "var gd = document.getElementById('f022541e-f8b2-4bf5-95c0-91595cc4102f');\n",
              "var x = new MutationObserver(function (mutations, observer) {{\n",
              "        var display = window.getComputedStyle(gd).display;\n",
              "        if (!display || display === 'none') {{\n",
              "            console.log([gd, 'removed!']);\n",
              "            Plotly.purge(gd);\n",
              "            observer.disconnect();\n",
              "        }}\n",
              "}});\n",
              "\n",
              "// Listen for the removal of the full notebook cells\n",
              "var notebookContainer = gd.closest('#notebook-container');\n",
              "if (notebookContainer) {{\n",
              "    x.observe(notebookContainer, {childList: true});\n",
              "}}\n",
              "\n",
              "// Listen for the clearing of the current output cell\n",
              "var outputEl = gd.closest('.output');\n",
              "if (outputEl) {{\n",
              "    x.observe(outputEl, {childList: true});\n",
              "}}\n",
              "\n",
              "                        })\n",
              "                };\n",
              "                \n",
              "            </script>\n",
              "        </div>\n",
              "</body>\n",
              "</html>"
            ]
          },
          "metadata": {}
        },
        {
          "output_type": "stream",
          "name": "stderr",
          "text": [
            "24-09-21 13:22:31 +++ Train have 14 types of thoracic abnormalities\n"
          ]
        }
      ]
    },
    {
      "cell_type": "code",
      "metadata": {
        "colab": {
          "base_uri": "https://localhost:8080/",
          "height": 560
        },
        "id": "ZswQyObXyjY3",
        "outputId": "1a409a8e-8f9c-41ce-ea32-e481c819b223"
      },
      "source": [
        "Visualize_class(train_df, feature='rad_id', title='List radiologists')\n",
        "logger.info(f\"Train have {train_df['rad_id'].nunique()} radiologists\")"
      ],
      "execution_count": 58,
      "outputs": [
        {
          "output_type": "display_data",
          "data": {
            "text/html": [
              "<html>\n",
              "<head><meta charset=\"utf-8\" /></head>\n",
              "<body>\n",
              "    <div>\n",
              "            <script src=\"https://cdnjs.cloudflare.com/ajax/libs/mathjax/2.7.5/MathJax.js?config=TeX-AMS-MML_SVG\"></script><script type=\"text/javascript\">if (window.MathJax) {MathJax.Hub.Config({SVG: {font: \"STIX-Web\"}});}</script>\n",
              "                <script type=\"text/javascript\">window.PlotlyConfig = {MathJaxConfig: 'local'};</script>\n",
              "        <script src=\"https://cdn.plot.ly/plotly-latest.min.js\"></script>    \n",
              "            <div id=\"dc6f61a1-08c7-4ccf-95a8-3c552aa4c184\" class=\"plotly-graph-div\" style=\"height:525px; width:100%;\"></div>\n",
              "            <script type=\"text/javascript\">\n",
              "                \n",
              "                    window.PLOTLYENV=window.PLOTLYENV || {};\n",
              "                    \n",
              "                if (document.getElementById(\"dc6f61a1-08c7-4ccf-95a8-3c552aa4c184\")) {\n",
              "                    Plotly.newPlot(\n",
              "                        'dc6f61a1-08c7-4ccf-95a8-3c552aa4c184',\n",
              "                        [{\"alignmentgroup\": \"True\", \"hoverlabel\": {\"namelength\": 0}, \"hovertemplate\": \"num_image=%{marker.color}<br>rad_id=%{y}\", \"legendgroup\": \"\", \"marker\": {\"color\": [812, 1513, 1624, 1670, 1729, 1733, 1763, 1823, 1824, 1995, 2041, 2285, 2783, 3121, 12198, 13292, 15708], \"coloraxis\": \"coloraxis\"}, \"name\": \"\", \"offsetgroup\": \"\", \"orientation\": \"h\", \"showlegend\": false, \"textposition\": \"auto\", \"type\": \"bar\", \"x\": [812, 1513, 1624, 1670, 1729, 1733, 1763, 1823, 1824, 1995, 2041, 2285, 2783, 3121, 12198, 13292, 15708], \"xaxis\": \"x\", \"y\": [\"R17\", \"R4\", \"R14\", \"R11\", \"R12\", \"R7\", \"R16\", \"R15\", \"R13\", \"R1\", \"R6\", \"R3\", \"R5\", \"R2\", \"R8\", \"R10\", \"R9\"], \"yaxis\": \"y\"}],\n",
              "                        {\"barmode\": \"relative\", \"coloraxis\": {\"colorbar\": {\"title\": {\"text\": \"num_image\"}}, \"colorscale\": [[0.0, \"#0d0887\"], [0.1111111111111111, \"#46039f\"], [0.2222222222222222, \"#7201a8\"], [0.3333333333333333, \"#9c179e\"], [0.4444444444444444, \"#bd3786\"], [0.5555555555555556, \"#d8576b\"], [0.6666666666666666, \"#ed7953\"], [0.7777777777777778, \"#fb9f3a\"], [0.8888888888888888, \"#fdca26\"], [1.0, \"#f0f921\"]]}, \"legend\": {\"tracegroupgap\": 0}, \"margin\": {\"t\": 60}, \"template\": {\"data\": {\"bar\": [{\"error_x\": {\"color\": \"#2a3f5f\"}, \"error_y\": {\"color\": \"#2a3f5f\"}, \"marker\": {\"line\": {\"color\": \"#E5ECF6\", \"width\": 0.5}}, \"type\": \"bar\"}], \"barpolar\": [{\"marker\": {\"line\": {\"color\": \"#E5ECF6\", \"width\": 0.5}}, \"type\": \"barpolar\"}], \"carpet\": [{\"aaxis\": {\"endlinecolor\": \"#2a3f5f\", \"gridcolor\": \"white\", \"linecolor\": \"white\", \"minorgridcolor\": \"white\", \"startlinecolor\": \"#2a3f5f\"}, \"baxis\": {\"endlinecolor\": \"#2a3f5f\", \"gridcolor\": \"white\", \"linecolor\": \"white\", \"minorgridcolor\": \"white\", \"startlinecolor\": \"#2a3f5f\"}, \"type\": \"carpet\"}], \"choropleth\": [{\"colorbar\": {\"outlinewidth\": 0, \"ticks\": \"\"}, \"type\": \"choropleth\"}], \"contour\": [{\"colorbar\": {\"outlinewidth\": 0, \"ticks\": \"\"}, \"colorscale\": [[0.0, \"#0d0887\"], [0.1111111111111111, \"#46039f\"], [0.2222222222222222, \"#7201a8\"], [0.3333333333333333, \"#9c179e\"], [0.4444444444444444, \"#bd3786\"], [0.5555555555555556, \"#d8576b\"], [0.6666666666666666, \"#ed7953\"], [0.7777777777777778, \"#fb9f3a\"], [0.8888888888888888, \"#fdca26\"], [1.0, \"#f0f921\"]], \"type\": \"contour\"}], \"contourcarpet\": [{\"colorbar\": {\"outlinewidth\": 0, \"ticks\": \"\"}, \"type\": \"contourcarpet\"}], \"heatmap\": [{\"colorbar\": {\"outlinewidth\": 0, \"ticks\": \"\"}, \"colorscale\": [[0.0, \"#0d0887\"], [0.1111111111111111, \"#46039f\"], [0.2222222222222222, \"#7201a8\"], [0.3333333333333333, \"#9c179e\"], [0.4444444444444444, \"#bd3786\"], [0.5555555555555556, \"#d8576b\"], [0.6666666666666666, \"#ed7953\"], [0.7777777777777778, \"#fb9f3a\"], [0.8888888888888888, \"#fdca26\"], [1.0, \"#f0f921\"]], \"type\": \"heatmap\"}], \"heatmapgl\": [{\"colorbar\": {\"outlinewidth\": 0, \"ticks\": \"\"}, \"colorscale\": [[0.0, \"#0d0887\"], [0.1111111111111111, \"#46039f\"], [0.2222222222222222, \"#7201a8\"], [0.3333333333333333, \"#9c179e\"], [0.4444444444444444, \"#bd3786\"], [0.5555555555555556, \"#d8576b\"], [0.6666666666666666, \"#ed7953\"], [0.7777777777777778, \"#fb9f3a\"], [0.8888888888888888, \"#fdca26\"], [1.0, \"#f0f921\"]], \"type\": \"heatmapgl\"}], \"histogram\": [{\"marker\": {\"colorbar\": {\"outlinewidth\": 0, \"ticks\": \"\"}}, \"type\": \"histogram\"}], \"histogram2d\": [{\"colorbar\": {\"outlinewidth\": 0, \"ticks\": \"\"}, \"colorscale\": [[0.0, \"#0d0887\"], [0.1111111111111111, \"#46039f\"], [0.2222222222222222, \"#7201a8\"], [0.3333333333333333, \"#9c179e\"], [0.4444444444444444, \"#bd3786\"], [0.5555555555555556, \"#d8576b\"], [0.6666666666666666, \"#ed7953\"], [0.7777777777777778, \"#fb9f3a\"], [0.8888888888888888, \"#fdca26\"], [1.0, \"#f0f921\"]], \"type\": \"histogram2d\"}], \"histogram2dcontour\": [{\"colorbar\": {\"outlinewidth\": 0, \"ticks\": \"\"}, \"colorscale\": [[0.0, \"#0d0887\"], [0.1111111111111111, \"#46039f\"], [0.2222222222222222, \"#7201a8\"], [0.3333333333333333, \"#9c179e\"], [0.4444444444444444, \"#bd3786\"], [0.5555555555555556, \"#d8576b\"], [0.6666666666666666, \"#ed7953\"], [0.7777777777777778, \"#fb9f3a\"], [0.8888888888888888, \"#fdca26\"], [1.0, \"#f0f921\"]], \"type\": \"histogram2dcontour\"}], \"mesh3d\": [{\"colorbar\": {\"outlinewidth\": 0, \"ticks\": \"\"}, \"type\": \"mesh3d\"}], \"parcoords\": [{\"line\": {\"colorbar\": {\"outlinewidth\": 0, \"ticks\": \"\"}}, \"type\": \"parcoords\"}], \"pie\": [{\"automargin\": true, \"type\": \"pie\"}], \"scatter\": [{\"marker\": {\"colorbar\": {\"outlinewidth\": 0, \"ticks\": \"\"}}, \"type\": \"scatter\"}], \"scatter3d\": [{\"line\": {\"colorbar\": {\"outlinewidth\": 0, \"ticks\": \"\"}}, \"marker\": {\"colorbar\": {\"outlinewidth\": 0, \"ticks\": \"\"}}, \"type\": \"scatter3d\"}], \"scattercarpet\": [{\"marker\": {\"colorbar\": {\"outlinewidth\": 0, \"ticks\": \"\"}}, \"type\": \"scattercarpet\"}], \"scattergeo\": [{\"marker\": {\"colorbar\": {\"outlinewidth\": 0, \"ticks\": \"\"}}, \"type\": \"scattergeo\"}], \"scattergl\": [{\"marker\": {\"colorbar\": {\"outlinewidth\": 0, \"ticks\": \"\"}}, \"type\": \"scattergl\"}], \"scattermapbox\": [{\"marker\": {\"colorbar\": {\"outlinewidth\": 0, \"ticks\": \"\"}}, \"type\": \"scattermapbox\"}], \"scatterpolar\": [{\"marker\": {\"colorbar\": {\"outlinewidth\": 0, \"ticks\": \"\"}}, \"type\": \"scatterpolar\"}], \"scatterpolargl\": [{\"marker\": {\"colorbar\": {\"outlinewidth\": 0, \"ticks\": \"\"}}, \"type\": \"scatterpolargl\"}], \"scatterternary\": [{\"marker\": {\"colorbar\": {\"outlinewidth\": 0, \"ticks\": \"\"}}, \"type\": \"scatterternary\"}], \"surface\": [{\"colorbar\": {\"outlinewidth\": 0, \"ticks\": \"\"}, \"colorscale\": [[0.0, \"#0d0887\"], [0.1111111111111111, \"#46039f\"], [0.2222222222222222, \"#7201a8\"], [0.3333333333333333, \"#9c179e\"], [0.4444444444444444, \"#bd3786\"], [0.5555555555555556, \"#d8576b\"], [0.6666666666666666, \"#ed7953\"], [0.7777777777777778, \"#fb9f3a\"], [0.8888888888888888, \"#fdca26\"], [1.0, \"#f0f921\"]], \"type\": \"surface\"}], \"table\": [{\"cells\": {\"fill\": {\"color\": \"#EBF0F8\"}, \"line\": {\"color\": \"white\"}}, \"header\": {\"fill\": {\"color\": \"#C8D4E3\"}, \"line\": {\"color\": \"white\"}}, \"type\": \"table\"}]}, \"layout\": {\"annotationdefaults\": {\"arrowcolor\": \"#2a3f5f\", \"arrowhead\": 0, \"arrowwidth\": 1}, \"coloraxis\": {\"colorbar\": {\"outlinewidth\": 0, \"ticks\": \"\"}}, \"colorscale\": {\"diverging\": [[0, \"#8e0152\"], [0.1, \"#c51b7d\"], [0.2, \"#de77ae\"], [0.3, \"#f1b6da\"], [0.4, \"#fde0ef\"], [0.5, \"#f7f7f7\"], [0.6, \"#e6f5d0\"], [0.7, \"#b8e186\"], [0.8, \"#7fbc41\"], [0.9, \"#4d9221\"], [1, \"#276419\"]], \"sequential\": [[0.0, \"#0d0887\"], [0.1111111111111111, \"#46039f\"], [0.2222222222222222, \"#7201a8\"], [0.3333333333333333, \"#9c179e\"], [0.4444444444444444, \"#bd3786\"], [0.5555555555555556, \"#d8576b\"], [0.6666666666666666, \"#ed7953\"], [0.7777777777777778, \"#fb9f3a\"], [0.8888888888888888, \"#fdca26\"], [1.0, \"#f0f921\"]], \"sequentialminus\": [[0.0, \"#0d0887\"], [0.1111111111111111, \"#46039f\"], [0.2222222222222222, \"#7201a8\"], [0.3333333333333333, \"#9c179e\"], [0.4444444444444444, \"#bd3786\"], [0.5555555555555556, \"#d8576b\"], [0.6666666666666666, \"#ed7953\"], [0.7777777777777778, \"#fb9f3a\"], [0.8888888888888888, \"#fdca26\"], [1.0, \"#f0f921\"]]}, \"colorway\": [\"#636efa\", \"#EF553B\", \"#00cc96\", \"#ab63fa\", \"#FFA15A\", \"#19d3f3\", \"#FF6692\", \"#B6E880\", \"#FF97FF\", \"#FECB52\"], \"font\": {\"color\": \"#2a3f5f\"}, \"geo\": {\"bgcolor\": \"white\", \"lakecolor\": \"white\", \"landcolor\": \"#E5ECF6\", \"showlakes\": true, \"showland\": true, \"subunitcolor\": \"white\"}, \"hoverlabel\": {\"align\": \"left\"}, \"hovermode\": \"closest\", \"mapbox\": {\"style\": \"light\"}, \"paper_bgcolor\": \"white\", \"plot_bgcolor\": \"#E5ECF6\", \"polar\": {\"angularaxis\": {\"gridcolor\": \"white\", \"linecolor\": \"white\", \"ticks\": \"\"}, \"bgcolor\": \"#E5ECF6\", \"radialaxis\": {\"gridcolor\": \"white\", \"linecolor\": \"white\", \"ticks\": \"\"}}, \"scene\": {\"xaxis\": {\"backgroundcolor\": \"#E5ECF6\", \"gridcolor\": \"white\", \"gridwidth\": 2, \"linecolor\": \"white\", \"showbackground\": true, \"ticks\": \"\", \"zerolinecolor\": \"white\"}, \"yaxis\": {\"backgroundcolor\": \"#E5ECF6\", \"gridcolor\": \"white\", \"gridwidth\": 2, \"linecolor\": \"white\", \"showbackground\": true, \"ticks\": \"\", \"zerolinecolor\": \"white\"}, \"zaxis\": {\"backgroundcolor\": \"#E5ECF6\", \"gridcolor\": \"white\", \"gridwidth\": 2, \"linecolor\": \"white\", \"showbackground\": true, \"ticks\": \"\", \"zerolinecolor\": \"white\"}}, \"shapedefaults\": {\"line\": {\"color\": \"#2a3f5f\"}}, \"ternary\": {\"aaxis\": {\"gridcolor\": \"white\", \"linecolor\": \"white\", \"ticks\": \"\"}, \"baxis\": {\"gridcolor\": \"white\", \"linecolor\": \"white\", \"ticks\": \"\"}, \"bgcolor\": \"#E5ECF6\", \"caxis\": {\"gridcolor\": \"white\", \"linecolor\": \"white\", \"ticks\": \"\"}}, \"title\": {\"x\": 0.05}, \"xaxis\": {\"automargin\": true, \"gridcolor\": \"white\", \"linecolor\": \"white\", \"ticks\": \"\", \"title\": {\"standoff\": 15}, \"zerolinecolor\": \"white\", \"zerolinewidth\": 2}, \"yaxis\": {\"automargin\": true, \"gridcolor\": \"white\", \"linecolor\": \"white\", \"ticks\": \"\", \"title\": {\"standoff\": 15}, \"zerolinecolor\": \"white\", \"zerolinewidth\": 2}}}, \"title\": {\"text\": \"List radiologists\", \"x\": 0.5, \"xanchor\": \"center\", \"y\": 0.95, \"yanchor\": \"top\"}, \"xaxis\": {\"anchor\": \"y\", \"domain\": [0.0, 1.0], \"title\": {\"text\": \"num_image\"}}, \"yaxis\": {\"anchor\": \"x\", \"domain\": [0.0, 1.0], \"title\": {\"text\": \"rad_id\"}}},\n",
              "                        {\"responsive\": true}\n",
              "                    ).then(function(){\n",
              "                            \n",
              "var gd = document.getElementById('dc6f61a1-08c7-4ccf-95a8-3c552aa4c184');\n",
              "var x = new MutationObserver(function (mutations, observer) {{\n",
              "        var display = window.getComputedStyle(gd).display;\n",
              "        if (!display || display === 'none') {{\n",
              "            console.log([gd, 'removed!']);\n",
              "            Plotly.purge(gd);\n",
              "            observer.disconnect();\n",
              "        }}\n",
              "}});\n",
              "\n",
              "// Listen for the removal of the full notebook cells\n",
              "var notebookContainer = gd.closest('#notebook-container');\n",
              "if (notebookContainer) {{\n",
              "    x.observe(notebookContainer, {childList: true});\n",
              "}}\n",
              "\n",
              "// Listen for the clearing of the current output cell\n",
              "var outputEl = gd.closest('.output');\n",
              "if (outputEl) {{\n",
              "    x.observe(outputEl, {childList: true});\n",
              "}}\n",
              "\n",
              "                        })\n",
              "                };\n",
              "                \n",
              "            </script>\n",
              "        </div>\n",
              "</body>\n",
              "</html>"
            ]
          },
          "metadata": {}
        },
        {
          "output_type": "stream",
          "name": "stderr",
          "text": [
            "24-09-21 13:22:34 +++ Train have 17 radiologists\n"
          ]
        }
      ]
    },
    {
      "cell_type": "code",
      "metadata": {
        "colab": {
          "base_uri": "https://localhost:8080/",
          "height": 614
        },
        "id": "_DzI3CUTyq3O",
        "outputId": "ecd0b9f0-c233-43e1-c526-0a08427f19fe"
      },
      "source": [
        "class_each_rad = pd.pivot_table(train_df, columns='rad_id', index='class_name',\n",
        "                                values='image_id', aggfunc='count', fill_value=0)\n",
        "plt.subplots(figsize=(15, 10))\n",
        "sns.heatmap(class_each_rad, annot=True, linewidths=1, cmap='Blues', fmt='g')\n",
        "plt.show()"
      ],
      "execution_count": 59,
      "outputs": [
        {
          "output_type": "display_data",
          "data": {
            "image/png": "[encoded data removed]",
            "text/plain": [
              "<Figure size 1080x720 with 2 Axes>"
            ]
          },
          "metadata": {
            "needs_background": "light"
          }
        }
      ]
    },
    {
      "cell_type": "markdown",
      "metadata": {
        "id": "IygvFwrDy8D-"
      },
      "source": [
        "Summary:\n",
        "- R8, R9, R10 is predominant\n",
        "- R1-7 is normal \n"
      ]
    },
    {
      "cell_type": "code",
      "metadata": {
        "colab": {
          "base_uri": "https://localhost:8080/"
        },
        "id": "sXo3bjRmyvgF",
        "outputId": "37a113be-da72-427a-b133-1e34f06bfbbe"
      },
      "source": [
        "%%time\n",
        "\n",
        "train_normal = train_df[train_df['class_name']=='No finding'].reset_index(drop=True)\n",
        "train_normal['x_min_resize'] = 0\n",
        "train_normal['y_min_resize'] = 0\n",
        "train_normal['x_max_resize'] = 1\n",
        "train_normal['y_max_resize'] = 1\n",
        "\n",
        "train_abnormal = train_df[train_df['class_name']!='No finding'].reset_index(drop=True)\n",
        "train_abnormal[['x_min_resize', 'y_min_resize', 'x_max_resize', 'y_max_resize']] = train_abnormal \\\n",
        ".apply(lambda x: label_resize(x[['h', 'w']].values, IMG_SIZE, *x[['x_min', 'y_min', 'x_max', 'y_max']].values),\n",
        "       axis=1, result_type=\"expand\")\n",
        "train_abnormal['x_center'] = 0.5*(train_abnormal['x_min_resize'] + train_abnormal['x_max_resize'])\n",
        "train_abnormal['y_center'] = 0.5*(train_abnormal['y_min_resize'] + train_abnormal['y_max_resize'])\n",
        "train_abnormal['width'] = train_abnormal['x_max_resize'] - train_abnormal['x_min_resize']\n",
        "train_abnormal['height'] = train_abnormal['y_max_resize'] - train_abnormal['y_min_resize']\n",
        "train_abnormal['area'] = train_abnormal.apply(lambda x: (x['x_max_resize']-x['x_min_resize'])*(x['y_max_resize']-x['y_min_resize']), axis=1)\n",
        "train_abnormal = train_abnormal[~train_abnormal.index.isin(list_remove)].reset_index(drop=True)\n"
      ],
      "execution_count": 60,
      "outputs": [
        {
          "output_type": "stream",
          "name": "stdout",
          "text": [
            "CPU times: user 28.3 s, sys: 0 ns, total: 28.3 s\n",
            "Wall time: 28.3 s\n"
          ]
        }
      ]
    },
    {
      "cell_type": "code",
      "metadata": {
        "colab": {
          "base_uri": "https://localhost:8080/",
          "height": 258
        },
        "id": "PHNHqx0uzZsu",
        "outputId": "bcc58b69-9995-4ee6-8229-db7e97a1e733"
      },
      "source": [
        "train_abnormal.head()"
      ],
      "execution_count": 61,
      "outputs": [
        {
          "output_type": "execute_result",
          "data": {
            "text/html": [
              "<div>\n",
              "<style scoped>\n",
              "    .dataframe tbody tr th:only-of-type {\n",
              "        vertical-align: middle;\n",
              "    }\n",
              "\n",
              "    .dataframe tbody tr th {\n",
              "        vertical-align: top;\n",
              "    }\n",
              "\n",
              "    .dataframe thead th {\n",
              "        text-align: right;\n",
              "    }\n",
              "</style>\n",
              "<table border=\"1\" class=\"dataframe\">\n",
              "  <thead>\n",
              "    <tr style=\"text-align: right;\">\n",
              "      <th></th>\n",
              "      <th>image_id</th>\n",
              "      <th>class_name</th>\n",
              "      <th>class_id</th>\n",
              "      <th>rad_id</th>\n",
              "      <th>x_min</th>\n",
              "      <th>y_min</th>\n",
              "      <th>x_max</th>\n",
              "      <th>y_max</th>\n",
              "      <th>h</th>\n",
              "      <th>w</th>\n",
              "      <th>x_min_resize</th>\n",
              "      <th>y_min_resize</th>\n",
              "      <th>x_max_resize</th>\n",
              "      <th>y_max_resize</th>\n",
              "      <th>x_center</th>\n",
              "      <th>y_center</th>\n",
              "      <th>width</th>\n",
              "      <th>height</th>\n",
              "      <th>area</th>\n",
              "    </tr>\n",
              "  </thead>\n",
              "  <tbody>\n",
              "    <tr>\n",
              "      <th>0</th>\n",
              "      <td>9a5094b2563a1ef3ff50dc5c7ff71345</td>\n",
              "      <td>Cardiomegaly</td>\n",
              "      <td>3</td>\n",
              "      <td>R10</td>\n",
              "      <td>691.0</td>\n",
              "      <td>1375.0</td>\n",
              "      <td>1653.0</td>\n",
              "      <td>1831.0</td>\n",
              "      <td>2336</td>\n",
              "      <td>2080</td>\n",
              "      <td>170</td>\n",
              "      <td>301</td>\n",
              "      <td>407</td>\n",
              "      <td>401</td>\n",
              "      <td>288.5</td>\n",
              "      <td>351.0</td>\n",
              "      <td>237</td>\n",
              "      <td>100</td>\n",
              "      <td>23700</td>\n",
              "    </tr>\n",
              "    <tr>\n",
              "      <th>1</th>\n",
              "      <td>051132a778e61a86eb147c7c6f564dfe</td>\n",
              "      <td>Aortic enlargement</td>\n",
              "      <td>0</td>\n",
              "      <td>R10</td>\n",
              "      <td>1264.0</td>\n",
              "      <td>743.0</td>\n",
              "      <td>1611.0</td>\n",
              "      <td>1019.0</td>\n",
              "      <td>2880</td>\n",
              "      <td>2304</td>\n",
              "      <td>281</td>\n",
              "      <td>132</td>\n",
              "      <td>358</td>\n",
              "      <td>181</td>\n",
              "      <td>319.5</td>\n",
              "      <td>156.5</td>\n",
              "      <td>77</td>\n",
              "      <td>49</td>\n",
              "      <td>3773</td>\n",
              "    </tr>\n",
              "    <tr>\n",
              "      <th>2</th>\n",
              "      <td>1c32170b4af4ce1a3030eb8167753b06</td>\n",
              "      <td>Pleural thickening</td>\n",
              "      <td>11</td>\n",
              "      <td>R9</td>\n",
              "      <td>627.0</td>\n",
              "      <td>357.0</td>\n",
              "      <td>947.0</td>\n",
              "      <td>433.0</td>\n",
              "      <td>3072</td>\n",
              "      <td>2540</td>\n",
              "      <td>126</td>\n",
              "      <td>60</td>\n",
              "      <td>191</td>\n",
              "      <td>72</td>\n",
              "      <td>158.5</td>\n",
              "      <td>66.0</td>\n",
              "      <td>65</td>\n",
              "      <td>12</td>\n",
              "      <td>780</td>\n",
              "    </tr>\n",
              "    <tr>\n",
              "      <th>3</th>\n",
              "      <td>0c7a38f293d5f5e4846aa4ca6db4daf1</td>\n",
              "      <td>ILD</td>\n",
              "      <td>5</td>\n",
              "      <td>R17</td>\n",
              "      <td>1347.0</td>\n",
              "      <td>245.0</td>\n",
              "      <td>2188.0</td>\n",
              "      <td>2169.0</td>\n",
              "      <td>2555</td>\n",
              "      <td>2285</td>\n",
              "      <td>302</td>\n",
              "      <td>49</td>\n",
              "      <td>490</td>\n",
              "      <td>435</td>\n",
              "      <td>396.0</td>\n",
              "      <td>242.0</td>\n",
              "      <td>188</td>\n",
              "      <td>386</td>\n",
              "      <td>72568</td>\n",
              "    </tr>\n",
              "    <tr>\n",
              "      <th>4</th>\n",
              "      <td>47ed17dcb2cbeec15182ed335a8b5a9e</td>\n",
              "      <td>Nodule/Mass</td>\n",
              "      <td>8</td>\n",
              "      <td>R9</td>\n",
              "      <td>557.0</td>\n",
              "      <td>2352.0</td>\n",
              "      <td>675.0</td>\n",
              "      <td>2484.0</td>\n",
              "      <td>3353</td>\n",
              "      <td>2568</td>\n",
              "      <td>111</td>\n",
              "      <td>359</td>\n",
              "      <td>135</td>\n",
              "      <td>379</td>\n",
              "      <td>123.0</td>\n",
              "      <td>369.0</td>\n",
              "      <td>24</td>\n",
              "      <td>20</td>\n",
              "      <td>480</td>\n",
              "    </tr>\n",
              "  </tbody>\n",
              "</table>\n",
              "</div>"
            ],
            "text/plain": [
              "                           image_id          class_name  class_id rad_id  \\\n",
              "0  9a5094b2563a1ef3ff50dc5c7ff71345        Cardiomegaly         3    R10   \n",
              "1  051132a778e61a86eb147c7c6f564dfe  Aortic enlargement         0    R10   \n",
              "2  1c32170b4af4ce1a3030eb8167753b06  Pleural thickening        11     R9   \n",
              "3  0c7a38f293d5f5e4846aa4ca6db4daf1                 ILD         5    R17   \n",
              "4  47ed17dcb2cbeec15182ed335a8b5a9e         Nodule/Mass         8     R9   \n",
              "\n",
              "    x_min   y_min   x_max   y_max     h     w  x_min_resize  y_min_resize  \\\n",
              "0   691.0  1375.0  1653.0  1831.0  2336  2080           170           301   \n",
              "1  1264.0   743.0  1611.0  1019.0  2880  2304           281           132   \n",
              "2   627.0   357.0   947.0   433.0  3072  2540           126            60   \n",
              "3  1347.0   245.0  2188.0  2169.0  2555  2285           302            49   \n",
              "4   557.0  2352.0   675.0  2484.0  3353  2568           111           359   \n",
              "\n",
              "   x_max_resize  y_max_resize  x_center  y_center  width  height   area  \n",
              "0           407           401     288.5     351.0    237     100  23700  \n",
              "1           358           181     319.5     156.5     77      49   3773  \n",
              "2           191            72     158.5      66.0     65      12    780  \n",
              "3           490           435     396.0     242.0    188     386  72568  \n",
              "4           135           379     123.0     369.0     24      20    480  "
            ]
          },
          "metadata": {},
          "execution_count": 61
        }
      ]
    },
    {
      "cell_type": "markdown",
      "metadata": {
        "id": "GikK1SSVzs_W"
      },
      "source": [
        "# Change bwf"
      ]
    },
    {
      "cell_type": "code",
      "metadata": {
        "id": "lKSvx6xGzktM"
      },
      "source": [
        "def Preprocess_wbf(df, size=SIZE, iou_thr=0.5, skip_box_thr=0.0001):\n",
        "    list_image = []\n",
        "    list_boxes = []\n",
        "    list_cls = []\n",
        "    list_h, list_w = [], []\n",
        "    new_df = pd.DataFrame()\n",
        "    for image_id in tqdm(df['image_id'].unique(), leave=False):\n",
        "        image_df = df[df['image_id']==image_id].reset_index(drop=True)\n",
        "        h, w = image_df.loc[0, ['h', 'w']].values\n",
        "        boxes = image_df[['x_min_resize', 'y_min_resize',\n",
        "                          'x_max_resize', 'y_max_resize']].values.tolist()\n",
        "        boxes = [[j/(size-1) for j in i] for i in boxes]\n",
        "        scores = [1.0]*len(boxes)\n",
        "        labels = [float(i) for i in image_df['class_id'].values]\n",
        "        boxes, scores, labels = weighted_boxes_fusion([boxes], [scores], [labels],\n",
        "                                                      weights=None,\n",
        "                                                      iou_thr=iou_thr,\n",
        "                                                      skip_box_thr=skip_box_thr)\n",
        "        list_image.extend([image_id]*len(boxes))\n",
        "        list_h.extend([h]*len(boxes))\n",
        "        list_w.extend([w]*len(boxes))\n",
        "        list_boxes.extend(boxes)\n",
        "        list_cls.extend(labels.tolist())\n",
        "    list_boxes = [[int(j*(size-1)) for j in i] for i in list_boxes]\n",
        "    new_df['image_id'] = list_image\n",
        "    new_df['class_id'] = list_cls\n",
        "    new_df['h'] = list_h\n",
        "    new_df['w'] = list_w\n",
        "    new_df['x_min_resize'], new_df['y_min_resize'], \\\n",
        "    new_df['x_max_resize'], new_df['y_max_resize'] = np.transpose(list_boxes)\n",
        "    new_df['x_center'] = 0.5*(new_df['x_min_resize'] + new_df['x_max_resize'])\n",
        "    new_df['y_center'] = 0.5*(new_df['y_min_resize'] + new_df['y_max_resize'])\n",
        "    new_df['width'] = new_df['x_max_resize'] - new_df['x_min_resize']\n",
        "    new_df['height'] = new_df['y_max_resize'] - new_df['y_min_resize']\n",
        "    new_df['area'] = new_df.apply(lambda x: (x['x_max_resize']-x['x_min_resize'])\\\n",
        "                                  *(x['y_max_resize']-x['y_min_resize']), axis=1)\n",
        "    return new_df\n"
      ],
      "execution_count": 62,
      "outputs": []
    },
    {
      "cell_type": "code",
      "metadata": {
        "colab": {
          "base_uri": "https://localhost:8080/",
          "height": 224,
          "referenced_widgets": [
            "4db02e8915e14d4183c92cc4365b9070",
            "1165a684023a4451a62bda3f78cd5030",
            "faf1f400d65b4aa3b099f719b78ea5bb",
            "ec94e3c298ae465188ac9d695f8edaa6",
            "f9b77881b4154fde886cd01ac752d13b",
            "0993688bd12f4770a6eb5b96d2288f50",
            "980fe453da654bd2a33e370a52e335ed",
            "ee53cf799278448ea29ee710ef7c1ef2",
            "47427ffac1ff4882bc53643d2b5298a4",
            "bda680f13ebc43fb882e84eaa65fb842",
            "d96b3c90451247efac49fcb25addda04"
          ]
        },
        "id": "Qyjt7DrkzxMv",
        "outputId": "bf2d0c2e-7ae6-4a1f-f244-07ea9d4dbfe6"
      },
      "source": [
        "train_abnormal = Preprocess_wbf(train_abnormal)\n",
        "train_abnormal.tail()"
      ],
      "execution_count": 63,
      "outputs": [
        {
          "output_type": "display_data",
          "data": {
            "application/vnd.jupyter.widget-view+json": {
              "model_id": "4db02e8915e14d4183c92cc4365b9070",
              "version_minor": 0,
              "version_major": 2
            },
            "text/plain": [
              "  0%|          | 0/4394 [00:00<?, ?it/s]"
            ]
          },
          "metadata": {}
        },
        {
          "output_type": "execute_result",
          "data": {
            "text/html": [
              "<div>\n",
              "<style scoped>\n",
              "    .dataframe tbody tr th:only-of-type {\n",
              "        vertical-align: middle;\n",
              "    }\n",
              "\n",
              "    .dataframe tbody tr th {\n",
              "        vertical-align: top;\n",
              "    }\n",
              "\n",
              "    .dataframe thead th {\n",
              "        text-align: right;\n",
              "    }\n",
              "</style>\n",
              "<table border=\"1\" class=\"dataframe\">\n",
              "  <thead>\n",
              "    <tr style=\"text-align: right;\">\n",
              "      <th></th>\n",
              "      <th>image_id</th>\n",
              "      <th>class_id</th>\n",
              "      <th>h</th>\n",
              "      <th>w</th>\n",
              "      <th>x_min_resize</th>\n",
              "      <th>y_min_resize</th>\n",
              "      <th>x_max_resize</th>\n",
              "      <th>y_max_resize</th>\n",
              "      <th>x_center</th>\n",
              "      <th>y_center</th>\n",
              "      <th>width</th>\n",
              "      <th>height</th>\n",
              "      <th>area</th>\n",
              "    </tr>\n",
              "  </thead>\n",
              "  <tbody>\n",
              "    <tr>\n",
              "      <th>23773</th>\n",
              "      <td>be53fe5a49231f1c1be020b0bdd8561f</td>\n",
              "      <td>6.0</td>\n",
              "      <td>2880</td>\n",
              "      <td>2304</td>\n",
              "      <td>98</td>\n",
              "      <td>196</td>\n",
              "      <td>149</td>\n",
              "      <td>226</td>\n",
              "      <td>123.5</td>\n",
              "      <td>211.0</td>\n",
              "      <td>51</td>\n",
              "      <td>30</td>\n",
              "      <td>1530</td>\n",
              "    </tr>\n",
              "    <tr>\n",
              "      <th>23774</th>\n",
              "      <td>380d07a94cc4b012812119370de47192</td>\n",
              "      <td>0.0</td>\n",
              "      <td>2368</td>\n",
              "      <td>1864</td>\n",
              "      <td>288</td>\n",
              "      <td>142</td>\n",
              "      <td>354</td>\n",
              "      <td>199</td>\n",
              "      <td>321.0</td>\n",
              "      <td>170.5</td>\n",
              "      <td>66</td>\n",
              "      <td>57</td>\n",
              "      <td>3762</td>\n",
              "    </tr>\n",
              "    <tr>\n",
              "      <th>23775</th>\n",
              "      <td>52951d7de2485aba8ed62629eee4d254</td>\n",
              "      <td>9.0</td>\n",
              "      <td>2880</td>\n",
              "      <td>2304</td>\n",
              "      <td>67</td>\n",
              "      <td>256</td>\n",
              "      <td>85</td>\n",
              "      <td>268</td>\n",
              "      <td>76.0</td>\n",
              "      <td>262.0</td>\n",
              "      <td>18</td>\n",
              "      <td>12</td>\n",
              "      <td>216</td>\n",
              "    </tr>\n",
              "    <tr>\n",
              "      <th>23776</th>\n",
              "      <td>52951d7de2485aba8ed62629eee4d254</td>\n",
              "      <td>3.0</td>\n",
              "      <td>2880</td>\n",
              "      <td>2304</td>\n",
              "      <td>160</td>\n",
              "      <td>286</td>\n",
              "      <td>359</td>\n",
              "      <td>340</td>\n",
              "      <td>259.5</td>\n",
              "      <td>313.0</td>\n",
              "      <td>199</td>\n",
              "      <td>54</td>\n",
              "      <td>10746</td>\n",
              "    </tr>\n",
              "    <tr>\n",
              "      <th>23777</th>\n",
              "      <td>1224f07d895107573588225f692e94f9</td>\n",
              "      <td>0.0</td>\n",
              "      <td>2264</td>\n",
              "      <td>2040</td>\n",
              "      <td>258</td>\n",
              "      <td>157</td>\n",
              "      <td>319</td>\n",
              "      <td>220</td>\n",
              "      <td>288.5</td>\n",
              "      <td>188.5</td>\n",
              "      <td>61</td>\n",
              "      <td>63</td>\n",
              "      <td>3843</td>\n",
              "    </tr>\n",
              "  </tbody>\n",
              "</table>\n",
              "</div>"
            ],
            "text/plain": [
              "                               image_id  class_id     h     w  x_min_resize  \\\n",
              "23773  be53fe5a49231f1c1be020b0bdd8561f       6.0  2880  2304            98   \n",
              "23774  380d07a94cc4b012812119370de47192       0.0  2368  1864           288   \n",
              "23775  52951d7de2485aba8ed62629eee4d254       9.0  2880  2304            67   \n",
              "23776  52951d7de2485aba8ed62629eee4d254       3.0  2880  2304           160   \n",
              "23777  1224f07d895107573588225f692e94f9       0.0  2264  2040           258   \n",
              "\n",
              "       y_min_resize  x_max_resize  y_max_resize  x_center  y_center  width  \\\n",
              "23773           196           149           226     123.5     211.0     51   \n",
              "23774           142           354           199     321.0     170.5     66   \n",
              "23775           256            85           268      76.0     262.0     18   \n",
              "23776           286           359           340     259.5     313.0    199   \n",
              "23777           157           319           220     288.5     188.5     61   \n",
              "\n",
              "       height   area  \n",
              "23773      30   1530  \n",
              "23774      57   3762  \n",
              "23775      12    216  \n",
              "23776      54  10746  \n",
              "23777      63   3843  "
            ]
          },
          "metadata": {},
          "execution_count": 63
        }
      ]
    },
    {
      "cell_type": "markdown",
      "metadata": {
        "id": "MceZXuUuz77t"
      },
      "source": [
        "#Fold"
      ]
    },
    {
      "cell_type": "markdown",
      "metadata": {
        "id": "-vZK7rQJz752"
      },
      "source": [
        ""
      ]
    },
    {
      "cell_type": "code",
      "metadata": {
        "id": "yMTqGUO4zztD"
      },
      "source": [
        ""
      ],
      "execution_count": null,
      "outputs": []
    }
  ]
}